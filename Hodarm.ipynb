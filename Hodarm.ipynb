{
 "cells": [
  {
   "cell_type": "code",
   "execution_count": 44,
   "id": "437673d4",
   "metadata": {},
   "outputs": [],
   "source": [
    "import pandas as pd\n",
    "import numpy as np\n",
    "import matplotlib.pyplot as plt\n",
    "%matplotlib inline\n",
    "import warnings\n",
    "warnings.filterwarnings('ignore')\n",
    "from sklearn.preprocessing import MinMaxScaler\n",
    "from sklearn.model_selection import train_test_split, cross_val_score\n",
    "from sklearn.metrics import accuracy_score\n",
    "from sklearn import neighbors\n",
    "from sklearn.ensemble import RandomForestRegressor\n",
    "from sklearn.neural_network import MLPRegressor\n",
    "from numpy.random import seed\n",
    "from sklearn import metrics\n",
    "seed(42)\n",
    "from sklearn.metrics import confusion_matrix\n",
    "from utils.metrics import evaluate\n",
    "from sklearn.preprocessing import StandardScaler\n",
    "import xgboost as xgb\n",
    "import lightgbm as lgb\n",
    "from sklearn import linear_model, svm\n",
    "from utils.plots import bar_metrics\n",
    "from tensorflow.keras.models import Sequential\n",
    "from tensorflow.keras.layers import LSTM\n",
    "from tensorflow.keras.layers import Dense\n",
    "from tensorflow.keras.layers import Flatten\n",
    "from tensorflow.keras.layers import Dropout\n",
    "from sklearn.tree import DecisionTreeClassifier\n",
    "from sklearn.discriminant_analysis import LinearDiscriminantAnalysis\n",
    "from matplotlib import pyplot\n",
    "import tensorflow as tf "
   ]
  },
  {
   "cell_type": "code",
   "execution_count": 2,
   "id": "5ea6b3f1",
   "metadata": {},
   "outputs": [],
   "source": [
    "df = pd.read_csv('HODARM_data.csv')\n",
    "df['Date'] = pd.to_datetime(df.Date, format='%m/%d/%Y')\n",
    "df.set_index('Date', inplace=True)"
   ]
  },
  {
   "cell_type": "code",
   "execution_count": 3,
   "id": "bfa761b8",
   "metadata": {},
   "outputs": [
    {
     "data": {
      "text/html": [
       "<div>\n",
       "<style scoped>\n",
       "    .dataframe tbody tr th:only-of-type {\n",
       "        vertical-align: middle;\n",
       "    }\n",
       "\n",
       "    .dataframe tbody tr th {\n",
       "        vertical-align: top;\n",
       "    }\n",
       "\n",
       "    .dataframe thead th {\n",
       "        text-align: right;\n",
       "    }\n",
       "</style>\n",
       "<table border=\"1\" class=\"dataframe\">\n",
       "  <thead>\n",
       "    <tr style=\"text-align: right;\">\n",
       "      <th></th>\n",
       "      <th>Admission_Total</th>\n",
       "      <th>Mortality</th>\n",
       "      <th>U60_Mortality</th>\n",
       "      <th>O2_saturation</th>\n",
       "      <th>ICU_ADD</th>\n",
       "      <th>Non_invasive_ventialion</th>\n",
       "      <th>Inutabet_C19_Pt</th>\n",
       "      <th>Non-intubated_C19_PT</th>\n",
       "      <th>Free_Ventilators</th>\n",
       "      <th>Using_Ventialtors</th>\n",
       "      <th>Infected_paramedics</th>\n",
       "    </tr>\n",
       "    <tr>\n",
       "      <th>Date</th>\n",
       "      <th></th>\n",
       "      <th></th>\n",
       "      <th></th>\n",
       "      <th></th>\n",
       "      <th></th>\n",
       "      <th></th>\n",
       "      <th></th>\n",
       "      <th></th>\n",
       "      <th></th>\n",
       "      <th></th>\n",
       "      <th></th>\n",
       "    </tr>\n",
       "  </thead>\n",
       "  <tbody>\n",
       "    <tr>\n",
       "      <th>2020-10-23</th>\n",
       "      <td>186</td>\n",
       "      <td>9</td>\n",
       "      <td>4</td>\n",
       "      <td>75.3</td>\n",
       "      <td>12</td>\n",
       "      <td>20</td>\n",
       "      <td>16</td>\n",
       "      <td>21</td>\n",
       "      <td>19</td>\n",
       "      <td>27</td>\n",
       "      <td>25</td>\n",
       "    </tr>\n",
       "    <tr>\n",
       "      <th>2020-10-24</th>\n",
       "      <td>181</td>\n",
       "      <td>7</td>\n",
       "      <td>2</td>\n",
       "      <td>76.0</td>\n",
       "      <td>14</td>\n",
       "      <td>15</td>\n",
       "      <td>17</td>\n",
       "      <td>21</td>\n",
       "      <td>18</td>\n",
       "      <td>38</td>\n",
       "      <td>25</td>\n",
       "    </tr>\n",
       "    <tr>\n",
       "      <th>2020-10-25</th>\n",
       "      <td>201</td>\n",
       "      <td>8</td>\n",
       "      <td>4</td>\n",
       "      <td>75.0</td>\n",
       "      <td>17</td>\n",
       "      <td>23</td>\n",
       "      <td>17</td>\n",
       "      <td>20</td>\n",
       "      <td>18</td>\n",
       "      <td>37</td>\n",
       "      <td>25</td>\n",
       "    </tr>\n",
       "    <tr>\n",
       "      <th>2020-10-26</th>\n",
       "      <td>198</td>\n",
       "      <td>8</td>\n",
       "      <td>2</td>\n",
       "      <td>76.0</td>\n",
       "      <td>11</td>\n",
       "      <td>0</td>\n",
       "      <td>14</td>\n",
       "      <td>18</td>\n",
       "      <td>24</td>\n",
       "      <td>32</td>\n",
       "      <td>25</td>\n",
       "    </tr>\n",
       "    <tr>\n",
       "      <th>2020-10-27</th>\n",
       "      <td>208</td>\n",
       "      <td>8</td>\n",
       "      <td>1</td>\n",
       "      <td>75.2</td>\n",
       "      <td>7</td>\n",
       "      <td>20</td>\n",
       "      <td>12</td>\n",
       "      <td>34</td>\n",
       "      <td>9</td>\n",
       "      <td>20</td>\n",
       "      <td>25</td>\n",
       "    </tr>\n",
       "  </tbody>\n",
       "</table>\n",
       "</div>"
      ],
      "text/plain": [
       "            Admission_Total  Mortality  U60_Mortality  O2_saturation  ICU_ADD  \\\n",
       "Date                                                                            \n",
       "2020-10-23              186          9              4           75.3       12   \n",
       "2020-10-24              181          7              2           76.0       14   \n",
       "2020-10-25              201          8              4           75.0       17   \n",
       "2020-10-26              198          8              2           76.0       11   \n",
       "2020-10-27              208          8              1           75.2        7   \n",
       "\n",
       "            Non_invasive_ventialion   Inutabet_C19_Pt  Non-intubated_C19_PT  \\\n",
       "Date                                                                          \n",
       "2020-10-23                        20               16                    21   \n",
       "2020-10-24                        15               17                    21   \n",
       "2020-10-25                        23               17                    20   \n",
       "2020-10-26                         0               14                    18   \n",
       "2020-10-27                        20               12                    34   \n",
       "\n",
       "            Free_Ventilators  Using_Ventialtors  Infected_paramedics  \n",
       "Date                                                                  \n",
       "2020-10-23                19                 27                   25  \n",
       "2020-10-24                18                 38                   25  \n",
       "2020-10-25                18                 37                   25  \n",
       "2020-10-26                24                 32                   25  \n",
       "2020-10-27                 9                 20                   25  "
      ]
     },
     "execution_count": 3,
     "metadata": {},
     "output_type": "execute_result"
    }
   ],
   "source": [
    "df.head()"
   ]
  },
  {
   "cell_type": "code",
   "execution_count": 4,
   "id": "362f1285",
   "metadata": {},
   "outputs": [
    {
     "data": {
      "text/html": [
       "<div>\n",
       "<style scoped>\n",
       "    .dataframe tbody tr th:only-of-type {\n",
       "        vertical-align: middle;\n",
       "    }\n",
       "\n",
       "    .dataframe tbody tr th {\n",
       "        vertical-align: top;\n",
       "    }\n",
       "\n",
       "    .dataframe thead th {\n",
       "        text-align: right;\n",
       "    }\n",
       "</style>\n",
       "<table border=\"1\" class=\"dataframe\">\n",
       "  <thead>\n",
       "    <tr style=\"text-align: right;\">\n",
       "      <th></th>\n",
       "      <th>Admission_Total</th>\n",
       "      <th>Mortality</th>\n",
       "      <th>U60_Mortality</th>\n",
       "      <th>O2_saturation</th>\n",
       "      <th>ICU_ADD</th>\n",
       "      <th>Non_invasive_ventialion</th>\n",
       "      <th>Inutabet_C19_Pt</th>\n",
       "      <th>Non-intubated_C19_PT</th>\n",
       "      <th>Free_Ventilators</th>\n",
       "      <th>Using_Ventialtors</th>\n",
       "      <th>Infected_paramedics</th>\n",
       "    </tr>\n",
       "    <tr>\n",
       "      <th>Date</th>\n",
       "      <th></th>\n",
       "      <th></th>\n",
       "      <th></th>\n",
       "      <th></th>\n",
       "      <th></th>\n",
       "      <th></th>\n",
       "      <th></th>\n",
       "      <th></th>\n",
       "      <th></th>\n",
       "      <th></th>\n",
       "      <th></th>\n",
       "    </tr>\n",
       "  </thead>\n",
       "  <tbody>\n",
       "    <tr>\n",
       "      <th>2022-03-16</th>\n",
       "      <td>24</td>\n",
       "      <td>0</td>\n",
       "      <td>0</td>\n",
       "      <td>80.0</td>\n",
       "      <td>1</td>\n",
       "      <td>6</td>\n",
       "      <td>6</td>\n",
       "      <td>31</td>\n",
       "      <td>39</td>\n",
       "      <td>37</td>\n",
       "      <td>0</td>\n",
       "    </tr>\n",
       "    <tr>\n",
       "      <th>2022-03-17</th>\n",
       "      <td>25</td>\n",
       "      <td>0</td>\n",
       "      <td>0</td>\n",
       "      <td>80.0</td>\n",
       "      <td>2</td>\n",
       "      <td>5</td>\n",
       "      <td>6</td>\n",
       "      <td>37</td>\n",
       "      <td>38</td>\n",
       "      <td>43</td>\n",
       "      <td>0</td>\n",
       "    </tr>\n",
       "    <tr>\n",
       "      <th>2022-03-18</th>\n",
       "      <td>28</td>\n",
       "      <td>0</td>\n",
       "      <td>0</td>\n",
       "      <td>82.0</td>\n",
       "      <td>1</td>\n",
       "      <td>7</td>\n",
       "      <td>6</td>\n",
       "      <td>39</td>\n",
       "      <td>32</td>\n",
       "      <td>45</td>\n",
       "      <td>0</td>\n",
       "    </tr>\n",
       "    <tr>\n",
       "      <th>2022-03-19</th>\n",
       "      <td>26</td>\n",
       "      <td>2</td>\n",
       "      <td>0</td>\n",
       "      <td>84.0</td>\n",
       "      <td>0</td>\n",
       "      <td>7</td>\n",
       "      <td>6</td>\n",
       "      <td>37</td>\n",
       "      <td>36</td>\n",
       "      <td>43</td>\n",
       "      <td>0</td>\n",
       "    </tr>\n",
       "    <tr>\n",
       "      <th>2022-03-20</th>\n",
       "      <td>23</td>\n",
       "      <td>2</td>\n",
       "      <td>0</td>\n",
       "      <td>80.0</td>\n",
       "      <td>0</td>\n",
       "      <td>6</td>\n",
       "      <td>6</td>\n",
       "      <td>50</td>\n",
       "      <td>23</td>\n",
       "      <td>56</td>\n",
       "      <td>0</td>\n",
       "    </tr>\n",
       "  </tbody>\n",
       "</table>\n",
       "</div>"
      ],
      "text/plain": [
       "            Admission_Total  Mortality  U60_Mortality  O2_saturation  ICU_ADD  \\\n",
       "Date                                                                            \n",
       "2022-03-16               24          0              0           80.0        1   \n",
       "2022-03-17               25          0              0           80.0        2   \n",
       "2022-03-18               28          0              0           82.0        1   \n",
       "2022-03-19               26          2              0           84.0        0   \n",
       "2022-03-20               23          2              0           80.0        0   \n",
       "\n",
       "            Non_invasive_ventialion   Inutabet_C19_Pt  Non-intubated_C19_PT  \\\n",
       "Date                                                                          \n",
       "2022-03-16                         6                6                    31   \n",
       "2022-03-17                         5                6                    37   \n",
       "2022-03-18                         7                6                    39   \n",
       "2022-03-19                         7                6                    37   \n",
       "2022-03-20                         6                6                    50   \n",
       "\n",
       "            Free_Ventilators  Using_Ventialtors  Infected_paramedics  \n",
       "Date                                                                  \n",
       "2022-03-16                39                 37                    0  \n",
       "2022-03-17                38                 43                    0  \n",
       "2022-03-18                32                 45                    0  \n",
       "2022-03-19                36                 43                    0  \n",
       "2022-03-20                23                 56                    0  "
      ]
     },
     "execution_count": 4,
     "metadata": {},
     "output_type": "execute_result"
    }
   ],
   "source": [
    "df.tail()"
   ]
  },
  {
   "cell_type": "code",
   "execution_count": 5,
   "id": "f4c56bde",
   "metadata": {},
   "outputs": [
    {
     "data": {
      "text/plain": [
       "(514, 11)"
      ]
     },
     "execution_count": 5,
     "metadata": {},
     "output_type": "execute_result"
    }
   ],
   "source": [
    "df.shape"
   ]
  },
  {
   "cell_type": "code",
   "execution_count": 6,
   "id": "e35364d2",
   "metadata": {},
   "outputs": [
    {
     "data": {
      "text/plain": [
       "array(['Admission_Total', 'Mortality', 'U60_Mortality', 'O2_saturation',\n",
       "       'ICU_ADD', 'Non_invasive_ventialion ', 'Inutabet_C19_Pt',\n",
       "       'Non-intubated_C19_PT', 'Free_Ventilators', 'Using_Ventialtors',\n",
       "       'Infected_paramedics'], dtype=object)"
      ]
     },
     "execution_count": 6,
     "metadata": {},
     "output_type": "execute_result"
    }
   ],
   "source": [
    "df.columns.values"
   ]
  },
  {
   "cell_type": "code",
   "execution_count": 7,
   "id": "d184b72b",
   "metadata": {},
   "outputs": [
    {
     "name": "stdout",
     "output_type": "stream",
     "text": [
      "<class 'pandas.core.frame.DataFrame'>\n",
      "DatetimeIndex: 514 entries, 2020-10-23 to 2022-03-20\n",
      "Data columns (total 11 columns):\n",
      " #   Column                    Non-Null Count  Dtype  \n",
      "---  ------                    --------------  -----  \n",
      " 0   Admission_Total           514 non-null    int64  \n",
      " 1   Mortality                 514 non-null    int64  \n",
      " 2   U60_Mortality             514 non-null    int64  \n",
      " 3   O2_saturation             514 non-null    float64\n",
      " 4   ICU_ADD                   514 non-null    int64  \n",
      " 5   Non_invasive_ventialion   514 non-null    int64  \n",
      " 6   Inutabet_C19_Pt           514 non-null    int64  \n",
      " 7   Non-intubated_C19_PT      514 non-null    int64  \n",
      " 8   Free_Ventilators          514 non-null    int64  \n",
      " 9   Using_Ventialtors         514 non-null    int64  \n",
      " 10  Infected_paramedics       514 non-null    int64  \n",
      "dtypes: float64(1), int64(10)\n",
      "memory usage: 48.2 KB\n"
     ]
    }
   ],
   "source": [
    "df.info()"
   ]
  },
  {
   "cell_type": "code",
   "execution_count": 8,
   "id": "6673f3bc",
   "metadata": {},
   "outputs": [
    {
     "data": {
      "text/html": [
       "<div>\n",
       "<style scoped>\n",
       "    .dataframe tbody tr th:only-of-type {\n",
       "        vertical-align: middle;\n",
       "    }\n",
       "\n",
       "    .dataframe tbody tr th {\n",
       "        vertical-align: top;\n",
       "    }\n",
       "\n",
       "    .dataframe thead th {\n",
       "        text-align: right;\n",
       "    }\n",
       "</style>\n",
       "<table border=\"1\" class=\"dataframe\">\n",
       "  <thead>\n",
       "    <tr style=\"text-align: right;\">\n",
       "      <th></th>\n",
       "      <th>Admission_Total</th>\n",
       "      <th>Mortality</th>\n",
       "      <th>U60_Mortality</th>\n",
       "      <th>O2_saturation</th>\n",
       "      <th>ICU_ADD</th>\n",
       "      <th>Non_invasive_ventialion</th>\n",
       "      <th>Inutabet_C19_Pt</th>\n",
       "      <th>Non-intubated_C19_PT</th>\n",
       "      <th>Free_Ventilators</th>\n",
       "      <th>Using_Ventialtors</th>\n",
       "      <th>Infected_paramedics</th>\n",
       "    </tr>\n",
       "  </thead>\n",
       "  <tbody>\n",
       "    <tr>\n",
       "      <th>count</th>\n",
       "      <td>514.000000</td>\n",
       "      <td>514.000000</td>\n",
       "      <td>514.000000</td>\n",
       "      <td>514.000000</td>\n",
       "      <td>514.000000</td>\n",
       "      <td>514.000000</td>\n",
       "      <td>514.000000</td>\n",
       "      <td>514.000000</td>\n",
       "      <td>514.000000</td>\n",
       "      <td>514.000000</td>\n",
       "      <td>514.000000</td>\n",
       "    </tr>\n",
       "    <tr>\n",
       "      <th>mean</th>\n",
       "      <td>102.361868</td>\n",
       "      <td>2.698444</td>\n",
       "      <td>0.799611</td>\n",
       "      <td>81.961284</td>\n",
       "      <td>5.902724</td>\n",
       "      <td>13.756809</td>\n",
       "      <td>7.332685</td>\n",
       "      <td>26.066148</td>\n",
       "      <td>27.064202</td>\n",
       "      <td>33.229572</td>\n",
       "      <td>5.367704</td>\n",
       "    </tr>\n",
       "    <tr>\n",
       "      <th>std</th>\n",
       "      <td>84.547698</td>\n",
       "      <td>2.938041</td>\n",
       "      <td>2.768649</td>\n",
       "      <td>5.454737</td>\n",
       "      <td>8.857672</td>\n",
       "      <td>10.161906</td>\n",
       "      <td>5.347224</td>\n",
       "      <td>7.945201</td>\n",
       "      <td>12.227289</td>\n",
       "      <td>6.247481</td>\n",
       "      <td>8.265750</td>\n",
       "    </tr>\n",
       "    <tr>\n",
       "      <th>min</th>\n",
       "      <td>7.000000</td>\n",
       "      <td>0.000000</td>\n",
       "      <td>0.000000</td>\n",
       "      <td>60.000000</td>\n",
       "      <td>0.000000</td>\n",
       "      <td>0.000000</td>\n",
       "      <td>0.000000</td>\n",
       "      <td>0.000000</td>\n",
       "      <td>8.000000</td>\n",
       "      <td>10.000000</td>\n",
       "      <td>0.000000</td>\n",
       "    </tr>\n",
       "    <tr>\n",
       "      <th>25%</th>\n",
       "      <td>30.000000</td>\n",
       "      <td>0.000000</td>\n",
       "      <td>0.000000</td>\n",
       "      <td>80.000000</td>\n",
       "      <td>0.000000</td>\n",
       "      <td>6.000000</td>\n",
       "      <td>3.000000</td>\n",
       "      <td>21.000000</td>\n",
       "      <td>21.000000</td>\n",
       "      <td>29.000000</td>\n",
       "      <td>1.000000</td>\n",
       "    </tr>\n",
       "    <tr>\n",
       "      <th>50%</th>\n",
       "      <td>72.000000</td>\n",
       "      <td>2.000000</td>\n",
       "      <td>0.000000</td>\n",
       "      <td>81.000000</td>\n",
       "      <td>1.000000</td>\n",
       "      <td>10.000000</td>\n",
       "      <td>6.000000</td>\n",
       "      <td>25.000000</td>\n",
       "      <td>25.000000</td>\n",
       "      <td>33.000000</td>\n",
       "      <td>2.000000</td>\n",
       "    </tr>\n",
       "    <tr>\n",
       "      <th>75%</th>\n",
       "      <td>173.000000</td>\n",
       "      <td>4.000000</td>\n",
       "      <td>1.000000</td>\n",
       "      <td>85.000000</td>\n",
       "      <td>9.000000</td>\n",
       "      <td>21.000000</td>\n",
       "      <td>11.000000</td>\n",
       "      <td>31.000000</td>\n",
       "      <td>31.000000</td>\n",
       "      <td>37.000000</td>\n",
       "      <td>6.000000</td>\n",
       "    </tr>\n",
       "    <tr>\n",
       "      <th>max</th>\n",
       "      <td>333.000000</td>\n",
       "      <td>18.000000</td>\n",
       "      <td>58.000000</td>\n",
       "      <td>93.300000</td>\n",
       "      <td>47.000000</td>\n",
       "      <td>43.000000</td>\n",
       "      <td>25.000000</td>\n",
       "      <td>50.000000</td>\n",
       "      <td>214.000000</td>\n",
       "      <td>56.000000</td>\n",
       "      <td>55.000000</td>\n",
       "    </tr>\n",
       "  </tbody>\n",
       "</table>\n",
       "</div>"
      ],
      "text/plain": [
       "       Admission_Total   Mortality  U60_Mortality  O2_saturation     ICU_ADD  \\\n",
       "count       514.000000  514.000000     514.000000     514.000000  514.000000   \n",
       "mean        102.361868    2.698444       0.799611      81.961284    5.902724   \n",
       "std          84.547698    2.938041       2.768649       5.454737    8.857672   \n",
       "min           7.000000    0.000000       0.000000      60.000000    0.000000   \n",
       "25%          30.000000    0.000000       0.000000      80.000000    0.000000   \n",
       "50%          72.000000    2.000000       0.000000      81.000000    1.000000   \n",
       "75%         173.000000    4.000000       1.000000      85.000000    9.000000   \n",
       "max         333.000000   18.000000      58.000000      93.300000   47.000000   \n",
       "\n",
       "       Non_invasive_ventialion   Inutabet_C19_Pt  Non-intubated_C19_PT  \\\n",
       "count                514.000000       514.000000            514.000000   \n",
       "mean                  13.756809         7.332685             26.066148   \n",
       "std                   10.161906         5.347224              7.945201   \n",
       "min                    0.000000         0.000000              0.000000   \n",
       "25%                    6.000000         3.000000             21.000000   \n",
       "50%                   10.000000         6.000000             25.000000   \n",
       "75%                   21.000000        11.000000             31.000000   \n",
       "max                   43.000000        25.000000             50.000000   \n",
       "\n",
       "       Free_Ventilators  Using_Ventialtors  Infected_paramedics  \n",
       "count        514.000000         514.000000           514.000000  \n",
       "mean          27.064202          33.229572             5.367704  \n",
       "std           12.227289           6.247481             8.265750  \n",
       "min            8.000000          10.000000             0.000000  \n",
       "25%           21.000000          29.000000             1.000000  \n",
       "50%           25.000000          33.000000             2.000000  \n",
       "75%           31.000000          37.000000             6.000000  \n",
       "max          214.000000          56.000000            55.000000  "
      ]
     },
     "execution_count": 8,
     "metadata": {},
     "output_type": "execute_result"
    }
   ],
   "source": [
    "df.describe()"
   ]
  },
  {
   "cell_type": "code",
   "execution_count": 9,
   "id": "276134cb",
   "metadata": {},
   "outputs": [],
   "source": [
    "def miss_data(x):\n",
    "    total = x.isnull().sum()\n",
    "    percent = (x.isnull().sum()/x.isnull().count()*100)\n",
    "    tt = pd.concat([total, percent], axis=1, keys=['Total', 'Percent'])\n",
    "    types = []\n",
    "    for col in df.columns:\n",
    "        dtype = str(x[col].dtype)\n",
    "        types.append(dtype)\n",
    "    tt['Types'] = types\n",
    "    return(np.transpose(tt))"
   ]
  },
  {
   "cell_type": "code",
   "execution_count": 10,
   "id": "7f831d45",
   "metadata": {},
   "outputs": [
    {
     "data": {
      "text/html": [
       "<div>\n",
       "<style scoped>\n",
       "    .dataframe tbody tr th:only-of-type {\n",
       "        vertical-align: middle;\n",
       "    }\n",
       "\n",
       "    .dataframe tbody tr th {\n",
       "        vertical-align: top;\n",
       "    }\n",
       "\n",
       "    .dataframe thead th {\n",
       "        text-align: right;\n",
       "    }\n",
       "</style>\n",
       "<table border=\"1\" class=\"dataframe\">\n",
       "  <thead>\n",
       "    <tr style=\"text-align: right;\">\n",
       "      <th></th>\n",
       "      <th>Admission_Total</th>\n",
       "      <th>Mortality</th>\n",
       "      <th>U60_Mortality</th>\n",
       "      <th>O2_saturation</th>\n",
       "      <th>ICU_ADD</th>\n",
       "      <th>Non_invasive_ventialion</th>\n",
       "      <th>Inutabet_C19_Pt</th>\n",
       "      <th>Non-intubated_C19_PT</th>\n",
       "      <th>Free_Ventilators</th>\n",
       "      <th>Using_Ventialtors</th>\n",
       "      <th>Infected_paramedics</th>\n",
       "    </tr>\n",
       "  </thead>\n",
       "  <tbody>\n",
       "    <tr>\n",
       "      <th>Total</th>\n",
       "      <td>0</td>\n",
       "      <td>0</td>\n",
       "      <td>0</td>\n",
       "      <td>0</td>\n",
       "      <td>0</td>\n",
       "      <td>0</td>\n",
       "      <td>0</td>\n",
       "      <td>0</td>\n",
       "      <td>0</td>\n",
       "      <td>0</td>\n",
       "      <td>0</td>\n",
       "    </tr>\n",
       "    <tr>\n",
       "      <th>Percent</th>\n",
       "      <td>0.0</td>\n",
       "      <td>0.0</td>\n",
       "      <td>0.0</td>\n",
       "      <td>0.0</td>\n",
       "      <td>0.0</td>\n",
       "      <td>0.0</td>\n",
       "      <td>0.0</td>\n",
       "      <td>0.0</td>\n",
       "      <td>0.0</td>\n",
       "      <td>0.0</td>\n",
       "      <td>0.0</td>\n",
       "    </tr>\n",
       "    <tr>\n",
       "      <th>Types</th>\n",
       "      <td>int64</td>\n",
       "      <td>int64</td>\n",
       "      <td>int64</td>\n",
       "      <td>float64</td>\n",
       "      <td>int64</td>\n",
       "      <td>int64</td>\n",
       "      <td>int64</td>\n",
       "      <td>int64</td>\n",
       "      <td>int64</td>\n",
       "      <td>int64</td>\n",
       "      <td>int64</td>\n",
       "    </tr>\n",
       "  </tbody>\n",
       "</table>\n",
       "</div>"
      ],
      "text/plain": [
       "        Admission_Total Mortality U60_Mortality O2_saturation ICU_ADD  \\\n",
       "Total                 0         0             0             0       0   \n",
       "Percent             0.0       0.0           0.0           0.0     0.0   \n",
       "Types             int64     int64         int64       float64   int64   \n",
       "\n",
       "        Non_invasive_ventialion  Inutabet_C19_Pt Non-intubated_C19_PT  \\\n",
       "Total                          0               0                    0   \n",
       "Percent                      0.0             0.0                  0.0   \n",
       "Types                      int64           int64                int64   \n",
       "\n",
       "        Free_Ventilators Using_Ventialtors Infected_paramedics  \n",
       "Total                  0                 0                   0  \n",
       "Percent              0.0               0.0                 0.0  \n",
       "Types              int64             int64               int64  "
      ]
     },
     "execution_count": 10,
     "metadata": {},
     "output_type": "execute_result"
    }
   ],
   "source": [
    "miss_data(df)"
   ]
  },
  {
   "cell_type": "code",
   "execution_count": 11,
   "id": "16ea9400",
   "metadata": {},
   "outputs": [],
   "source": [
    "for x in df.columns:\n",
    "    if df[x].dtype=='int64' or  df[x].dtype=='float64':\n",
    "        df[x].fillna(df[x].mean())\n",
    "\n",
    "df = df.fillna(-999)\n",
    "\n",
    "for y in df.columns:\n",
    "    if df[y].dtype=='object': \n",
    "        lbl = LabelEncoder()\n",
    "        lbl.fit(list(df[y].values))\n",
    "        df[y] = lbl.transform(list(df[y].values))"
   ]
  },
  {
   "cell_type": "code",
   "execution_count": 12,
   "id": "11c404d7",
   "metadata": {},
   "outputs": [
    {
     "data": {
      "text/html": [
       "<div>\n",
       "<style scoped>\n",
       "    .dataframe tbody tr th:only-of-type {\n",
       "        vertical-align: middle;\n",
       "    }\n",
       "\n",
       "    .dataframe tbody tr th {\n",
       "        vertical-align: top;\n",
       "    }\n",
       "\n",
       "    .dataframe thead th {\n",
       "        text-align: right;\n",
       "    }\n",
       "</style>\n",
       "<table border=\"1\" class=\"dataframe\">\n",
       "  <thead>\n",
       "    <tr style=\"text-align: right;\">\n",
       "      <th></th>\n",
       "      <th>Admission_Total</th>\n",
       "      <th>Mortality</th>\n",
       "      <th>U60_Mortality</th>\n",
       "      <th>O2_saturation</th>\n",
       "      <th>ICU_ADD</th>\n",
       "      <th>Non_invasive_ventialion</th>\n",
       "      <th>Inutabet_C19_Pt</th>\n",
       "      <th>Non-intubated_C19_PT</th>\n",
       "      <th>Free_Ventilators</th>\n",
       "      <th>Using_Ventialtors</th>\n",
       "      <th>Infected_paramedics</th>\n",
       "    </tr>\n",
       "  </thead>\n",
       "  <tbody>\n",
       "    <tr>\n",
       "      <th>Admission_Total</th>\n",
       "      <td>1.000000</td>\n",
       "      <td>0.711889</td>\n",
       "      <td>0.193374</td>\n",
       "      <td>0.570171</td>\n",
       "      <td>0.859985</td>\n",
       "      <td>0.872307</td>\n",
       "      <td>0.795409</td>\n",
       "      <td>0.635542</td>\n",
       "      <td>0.186492</td>\n",
       "      <td>0.136633</td>\n",
       "      <td>0.468613</td>\n",
       "    </tr>\n",
       "    <tr>\n",
       "      <th>Mortality</th>\n",
       "      <td>0.711889</td>\n",
       "      <td>1.000000</td>\n",
       "      <td>0.276289</td>\n",
       "      <td>0.507063</td>\n",
       "      <td>0.601474</td>\n",
       "      <td>0.628571</td>\n",
       "      <td>0.648380</td>\n",
       "      <td>0.522061</td>\n",
       "      <td>0.151882</td>\n",
       "      <td>0.128439</td>\n",
       "      <td>0.354784</td>\n",
       "    </tr>\n",
       "    <tr>\n",
       "      <th>U60_Mortality</th>\n",
       "      <td>0.193374</td>\n",
       "      <td>0.276289</td>\n",
       "      <td>1.000000</td>\n",
       "      <td>0.146382</td>\n",
       "      <td>0.189257</td>\n",
       "      <td>0.165380</td>\n",
       "      <td>0.181476</td>\n",
       "      <td>0.130547</td>\n",
       "      <td>0.042230</td>\n",
       "      <td>0.022466</td>\n",
       "      <td>0.095390</td>\n",
       "    </tr>\n",
       "    <tr>\n",
       "      <th>O2_saturation</th>\n",
       "      <td>0.570171</td>\n",
       "      <td>0.507063</td>\n",
       "      <td>0.146382</td>\n",
       "      <td>1.000000</td>\n",
       "      <td>0.383016</td>\n",
       "      <td>0.497883</td>\n",
       "      <td>0.577161</td>\n",
       "      <td>0.250193</td>\n",
       "      <td>0.023059</td>\n",
       "      <td>0.163494</td>\n",
       "      <td>0.303749</td>\n",
       "    </tr>\n",
       "    <tr>\n",
       "      <th>ICU_ADD</th>\n",
       "      <td>0.859985</td>\n",
       "      <td>0.601474</td>\n",
       "      <td>0.189257</td>\n",
       "      <td>0.383016</td>\n",
       "      <td>1.000000</td>\n",
       "      <td>0.762998</td>\n",
       "      <td>0.678156</td>\n",
       "      <td>0.461118</td>\n",
       "      <td>0.144973</td>\n",
       "      <td>0.018688</td>\n",
       "      <td>0.400442</td>\n",
       "    </tr>\n",
       "  </tbody>\n",
       "</table>\n",
       "</div>"
      ],
      "text/plain": [
       "                 Admission_Total  Mortality  U60_Mortality  O2_saturation  \\\n",
       "Admission_Total         1.000000   0.711889       0.193374       0.570171   \n",
       "Mortality               0.711889   1.000000       0.276289       0.507063   \n",
       "U60_Mortality           0.193374   0.276289       1.000000       0.146382   \n",
       "O2_saturation           0.570171   0.507063       0.146382       1.000000   \n",
       "ICU_ADD                 0.859985   0.601474       0.189257       0.383016   \n",
       "\n",
       "                  ICU_ADD  Non_invasive_ventialion   Inutabet_C19_Pt  \\\n",
       "Admission_Total  0.859985                  0.872307         0.795409   \n",
       "Mortality        0.601474                  0.628571         0.648380   \n",
       "U60_Mortality    0.189257                  0.165380         0.181476   \n",
       "O2_saturation    0.383016                  0.497883         0.577161   \n",
       "ICU_ADD          1.000000                  0.762998         0.678156   \n",
       "\n",
       "                 Non-intubated_C19_PT  Free_Ventilators  Using_Ventialtors  \\\n",
       "Admission_Total              0.635542          0.186492           0.136633   \n",
       "Mortality                    0.522061          0.151882           0.128439   \n",
       "U60_Mortality                0.130547          0.042230           0.022466   \n",
       "O2_saturation                0.250193          0.023059           0.163494   \n",
       "ICU_ADD                      0.461118          0.144973           0.018688   \n",
       "\n",
       "                 Infected_paramedics  \n",
       "Admission_Total             0.468613  \n",
       "Mortality                   0.354784  \n",
       "U60_Mortality               0.095390  \n",
       "O2_saturation               0.303749  \n",
       "ICU_ADD                     0.400442  "
      ]
     },
     "execution_count": 12,
     "metadata": {},
     "output_type": "execute_result"
    }
   ],
   "source": [
    "threshold = 0.92\n",
    "corr_matrix = df.corr().abs()\n",
    "corr_matrix.head()"
   ]
  },
  {
   "cell_type": "code",
   "execution_count": 13,
   "id": "4c015345",
   "metadata": {},
   "outputs": [
    {
     "data": {
      "text/html": [
       "<div>\n",
       "<style scoped>\n",
       "    .dataframe tbody tr th:only-of-type {\n",
       "        vertical-align: middle;\n",
       "    }\n",
       "\n",
       "    .dataframe tbody tr th {\n",
       "        vertical-align: top;\n",
       "    }\n",
       "\n",
       "    .dataframe thead th {\n",
       "        text-align: right;\n",
       "    }\n",
       "</style>\n",
       "<table border=\"1\" class=\"dataframe\">\n",
       "  <thead>\n",
       "    <tr style=\"text-align: right;\">\n",
       "      <th></th>\n",
       "      <th>Admission_Total</th>\n",
       "      <th>Mortality</th>\n",
       "      <th>U60_Mortality</th>\n",
       "      <th>O2_saturation</th>\n",
       "      <th>ICU_ADD</th>\n",
       "      <th>Non_invasive_ventialion</th>\n",
       "      <th>Inutabet_C19_Pt</th>\n",
       "      <th>Non-intubated_C19_PT</th>\n",
       "      <th>Free_Ventilators</th>\n",
       "      <th>Using_Ventialtors</th>\n",
       "      <th>Infected_paramedics</th>\n",
       "    </tr>\n",
       "  </thead>\n",
       "  <tbody>\n",
       "    <tr>\n",
       "      <th>Admission_Total</th>\n",
       "      <td>NaN</td>\n",
       "      <td>0.711889</td>\n",
       "      <td>0.193374</td>\n",
       "      <td>0.570171</td>\n",
       "      <td>0.859985</td>\n",
       "      <td>0.872307</td>\n",
       "      <td>0.795409</td>\n",
       "      <td>0.635542</td>\n",
       "      <td>0.186492</td>\n",
       "      <td>0.136633</td>\n",
       "      <td>0.468613</td>\n",
       "    </tr>\n",
       "    <tr>\n",
       "      <th>Mortality</th>\n",
       "      <td>NaN</td>\n",
       "      <td>NaN</td>\n",
       "      <td>0.276289</td>\n",
       "      <td>0.507063</td>\n",
       "      <td>0.601474</td>\n",
       "      <td>0.628571</td>\n",
       "      <td>0.648380</td>\n",
       "      <td>0.522061</td>\n",
       "      <td>0.151882</td>\n",
       "      <td>0.128439</td>\n",
       "      <td>0.354784</td>\n",
       "    </tr>\n",
       "    <tr>\n",
       "      <th>U60_Mortality</th>\n",
       "      <td>NaN</td>\n",
       "      <td>NaN</td>\n",
       "      <td>NaN</td>\n",
       "      <td>0.146382</td>\n",
       "      <td>0.189257</td>\n",
       "      <td>0.165380</td>\n",
       "      <td>0.181476</td>\n",
       "      <td>0.130547</td>\n",
       "      <td>0.042230</td>\n",
       "      <td>0.022466</td>\n",
       "      <td>0.095390</td>\n",
       "    </tr>\n",
       "    <tr>\n",
       "      <th>O2_saturation</th>\n",
       "      <td>NaN</td>\n",
       "      <td>NaN</td>\n",
       "      <td>NaN</td>\n",
       "      <td>NaN</td>\n",
       "      <td>0.383016</td>\n",
       "      <td>0.497883</td>\n",
       "      <td>0.577161</td>\n",
       "      <td>0.250193</td>\n",
       "      <td>0.023059</td>\n",
       "      <td>0.163494</td>\n",
       "      <td>0.303749</td>\n",
       "    </tr>\n",
       "    <tr>\n",
       "      <th>ICU_ADD</th>\n",
       "      <td>NaN</td>\n",
       "      <td>NaN</td>\n",
       "      <td>NaN</td>\n",
       "      <td>NaN</td>\n",
       "      <td>NaN</td>\n",
       "      <td>0.762998</td>\n",
       "      <td>0.678156</td>\n",
       "      <td>0.461118</td>\n",
       "      <td>0.144973</td>\n",
       "      <td>0.018688</td>\n",
       "      <td>0.400442</td>\n",
       "    </tr>\n",
       "  </tbody>\n",
       "</table>\n",
       "</div>"
      ],
      "text/plain": [
       "                 Admission_Total  Mortality  U60_Mortality  O2_saturation  \\\n",
       "Admission_Total              NaN   0.711889       0.193374       0.570171   \n",
       "Mortality                    NaN        NaN       0.276289       0.507063   \n",
       "U60_Mortality                NaN        NaN            NaN       0.146382   \n",
       "O2_saturation                NaN        NaN            NaN            NaN   \n",
       "ICU_ADD                      NaN        NaN            NaN            NaN   \n",
       "\n",
       "                  ICU_ADD  Non_invasive_ventialion   Inutabet_C19_Pt  \\\n",
       "Admission_Total  0.859985                  0.872307         0.795409   \n",
       "Mortality        0.601474                  0.628571         0.648380   \n",
       "U60_Mortality    0.189257                  0.165380         0.181476   \n",
       "O2_saturation    0.383016                  0.497883         0.577161   \n",
       "ICU_ADD               NaN                  0.762998         0.678156   \n",
       "\n",
       "                 Non-intubated_C19_PT  Free_Ventilators  Using_Ventialtors  \\\n",
       "Admission_Total              0.635542          0.186492           0.136633   \n",
       "Mortality                    0.522061          0.151882           0.128439   \n",
       "U60_Mortality                0.130547          0.042230           0.022466   \n",
       "O2_saturation                0.250193          0.023059           0.163494   \n",
       "ICU_ADD                      0.461118          0.144973           0.018688   \n",
       "\n",
       "                 Infected_paramedics  \n",
       "Admission_Total             0.468613  \n",
       "Mortality                   0.354784  \n",
       "U60_Mortality               0.095390  \n",
       "O2_saturation               0.303749  \n",
       "ICU_ADD                     0.400442  "
      ]
     },
     "execution_count": 13,
     "metadata": {},
     "output_type": "execute_result"
    }
   ],
   "source": [
    "upper = corr_matrix.where(np.triu(np.ones(corr_matrix.shape), k=1).astype(np.bool))\n",
    "upper.head()"
   ]
  },
  {
   "cell_type": "code",
   "execution_count": 146,
   "id": "ec3f42f6",
   "metadata": {},
   "outputs": [
    {
     "name": "stdout",
     "output_type": "stream",
     "text": [
      "There are 0 columns to remove.\n",
      "Data shape:  (514, 11)\n",
      "Size of the data (514, 11)\n"
     ]
    }
   ],
   "source": [
    "to_drop = [column for column in upper.columns if any(upper[column] > threshold)]\n",
    "\n",
    "print('There are %d columns to remove.' % (len(to_drop)))\n",
    "df = df.drop(columns = to_drop)\n",
    "print('Data shape: ', df.shape)\n",
    "print('Size of the data', df.shape)"
   ]
  },
  {
   "cell_type": "code",
   "execution_count": 147,
   "id": "ece22a2f",
   "metadata": {},
   "outputs": [],
   "source": [
    "X = df.drop(['Admission_Total'], axis=1)\n",
    "y = df['Admission_Total']"
   ]
  },
  {
   "cell_type": "code",
   "execution_count": 148,
   "id": "52628f09",
   "metadata": {},
   "outputs": [],
   "source": [
    "# Split 30% for test\n",
    "X_train, X_test, y_train, y_test = train_test_split(X,y, test_size=0.30)"
   ]
  },
  {
   "cell_type": "code",
   "execution_count": 149,
   "id": "1210ca16",
   "metadata": {},
   "outputs": [
    {
     "name": "stdout",
     "output_type": "stream",
     "text": [
      "(359, 10) (155, 10) (359,) (155,)\n"
     ]
    }
   ],
   "source": [
    "print(X_train.shape, X_test.shape, y_train.shape, y_test.shape)"
   ]
  },
  {
   "cell_type": "code",
   "execution_count": 150,
   "id": "5c8a4b1b",
   "metadata": {},
   "outputs": [],
   "source": [
    "resultsDict = {}\n",
    "predictionsDict = {}"
   ]
  },
  {
   "cell_type": "code",
   "execution_count": 151,
   "id": "3db60358",
   "metadata": {},
   "outputs": [],
   "source": [
    "cols = X_train.columns\n",
    "scaler = MinMaxScaler(feature_range=(0, 1))\n",
    "t_X_train = scaler.fit_transform(X_train)\n",
    "t_X_test = scaler.transform(X_test)\n",
    "X_train = pd.DataFrame(t_X_train, columns=[cols])\n",
    "X_test = pd.DataFrame(t_X_test, columns=[cols])"
   ]
  },
  {
   "cell_type": "markdown",
   "id": "14829e44",
   "metadata": {},
   "source": [
    "### Bayesian regression"
   ]
  },
  {
   "cell_type": "code",
   "execution_count": 152,
   "id": "647811d3",
   "metadata": {},
   "outputs": [
    {
     "name": "stdout",
     "output_type": "stream",
     "text": [
      "Mean squared error: 615.14\n"
     ]
    }
   ],
   "source": [
    "reg = linear_model.BayesianRidge()\n",
    "reg.fit(X_train, y_train)\n",
    "yhat = reg.predict(X_test)\n",
    "resultsDict['BayesianRidge'] = evaluate(y_test, yhat)\n",
    "predictionsDict['BayesianRidge'] = yhat\n",
    "print(\"Mean squared error: %.2f\" % np.mean((yhat - y_test) ** 2))"
   ]
  },
  {
   "cell_type": "markdown",
   "id": "efd91ac1",
   "metadata": {},
   "source": [
    "### Lesso"
   ]
  },
  {
   "cell_type": "code",
   "execution_count": 153,
   "id": "8ed8cd37",
   "metadata": {},
   "outputs": [
    {
     "name": "stdout",
     "output_type": "stream",
     "text": [
      "Mean squared error: 624.62\n"
     ]
    }
   ],
   "source": [
    "reg = linear_model.Lasso(alpha=0.1)\n",
    "reg.fit(X_train, y_train)\n",
    "yhat = reg.predict(X_test)\n",
    "resultsDict['Lasso'] = evaluate(y_test, yhat)\n",
    "predictionsDict['Lasso'] = yhat\n",
    "print(\"Mean squared error: %.2f\" % np.mean((yhat - y_test) ** 2))"
   ]
  },
  {
   "cell_type": "markdown",
   "id": "7e373556",
   "metadata": {},
   "source": [
    "### Random Forest"
   ]
  },
  {
   "cell_type": "code",
   "execution_count": 154,
   "id": "3a314d73",
   "metadata": {},
   "outputs": [
    {
     "name": "stdout",
     "output_type": "stream",
     "text": [
      "Mean squared error: 386.65\n"
     ]
    }
   ],
   "source": [
    "reg = RandomForestRegressor(n_estimators=100,random_state=137)\n",
    "reg.fit(X_train, y_train)\n",
    "yhat = reg.predict(X_test)\n",
    "resultsDict['RandomForest'] = evaluate(y_test, yhat)\n",
    "predictionsDict['RandomForest'] = yhat\n",
    "print(\"Mean squared error: %.2f\" % np.mean((yhat - y_test) ** 2))"
   ]
  },
  {
   "cell_type": "markdown",
   "id": "0a08f2e2",
   "metadata": {},
   "source": [
    "###  XGBoost"
   ]
  },
  {
   "cell_type": "code",
   "execution_count": 155,
   "id": "03cb050d",
   "metadata": {},
   "outputs": [
    {
     "name": "stdout",
     "output_type": "stream",
     "text": [
      "Mean squared error: 439.21\n"
     ]
    }
   ],
   "source": [
    "reg = xgb.XGBRegressor(objective='reg:squarederror', n_estimators=1000)\n",
    "reg.fit(X_train, y_train,verbose=False)  # Change verbose to True if you want to see it train\n",
    "yhat = reg.predict(X_test)\n",
    "resultsDict['XGBoost'] = evaluate(y_test, yhat)\n",
    "predictionsDict['XGBoost'] = yhat\n",
    "print(\"Mean squared error: %.2f\" % np.mean((yhat - y_test) ** 2))"
   ]
  },
  {
   "cell_type": "markdown",
   "id": "85baa2e3",
   "metadata": {},
   "source": [
    "### Support vector machines"
   ]
  },
  {
   "cell_type": "code",
   "execution_count": 156,
   "id": "2bc0cf65",
   "metadata": {},
   "outputs": [
    {
     "name": "stdout",
     "output_type": "stream",
     "text": [
      "Mean squared error: 583.04\n"
     ]
    }
   ],
   "source": [
    "reg = svm.SVR(kernel='rbf', C=100, gamma=0.1, epsilon=.1)\n",
    "reg.fit(X_train, y_train)\n",
    "yhat = reg.predict(X_test)\n",
    "resultsDict['SVM RBF'] = evaluate(y_test, yhat)\n",
    "predictionsDict['SVM RBF'] = yhat\n",
    "print(\"Mean squared error: %.2f\" % np.mean((yhat - y_test) ** 2))"
   ]
  },
  {
   "cell_type": "markdown",
   "id": "6848a1d4",
   "metadata": {},
   "source": [
    "### Nearest neighbors"
   ]
  },
  {
   "cell_type": "code",
   "execution_count": 157,
   "id": "c160ee8f",
   "metadata": {},
   "outputs": [
    {
     "name": "stdout",
     "output_type": "stream",
     "text": [
      "Mean squared error: 394.68\n"
     ]
    }
   ],
   "source": [
    "reg = neighbors.KNeighborsRegressor(10, weights='distance', metric='euclidean')\n",
    "reg.fit(X_train, y_train)\n",
    "yhat = reg.predict(X_test)\n",
    "resultsDict['KNN'] = evaluate(y_test, yhat)\n",
    "predictionsDict['KNNF'] = yhat\n",
    "print(\"Mean squared error: %.2f\" % np.mean((yhat - y_test) ** 2))"
   ]
  },
  {
   "cell_type": "markdown",
   "id": "ddcc044a",
   "metadata": {},
   "source": [
    "### LinearRegression"
   ]
  },
  {
   "cell_type": "code",
   "execution_count": 158,
   "id": "7373afab",
   "metadata": {},
   "outputs": [
    {
     "name": "stdout",
     "output_type": "stream",
     "text": [
      "Mean squared error: 614.39\n"
     ]
    }
   ],
   "source": [
    "reg = linear_model.LinearRegression(normalize=False)\n",
    "reg.fit(X_train, y_train)\n",
    "yhat = reg.predict(X_test)\n",
    "resultsDict['LinearRegression'] = evaluate(y_test, yhat)\n",
    "predictionsDict['LinearRegression'] = yhat\n",
    "print(\"Mean squared error: %.2f\" % np.mean((yhat - y_test) ** 2))"
   ]
  },
  {
   "cell_type": "markdown",
   "id": "c4eb2aed",
   "metadata": {},
   "source": [
    "### MLP"
   ]
  },
  {
   "cell_type": "code",
   "execution_count": 159,
   "id": "43c21c30",
   "metadata": {},
   "outputs": [
    {
     "name": "stdout",
     "output_type": "stream",
     "text": [
      "Mean squared error: 470.90\n"
     ]
    }
   ],
   "source": [
    "reg = MLPRegressor(hidden_layer_sizes=(75, 25), learning_rate='adaptive', verbose=True,\n",
    "                   activation='relu', solver='lbfgs', max_iter=500)\n",
    "\n",
    "reg.fit(X_train, y_train)\n",
    "yhat = reg.predict(X_test)\n",
    "resultsDict['MLP'] = evaluate(y_test, yhat)\n",
    "predictionsDict['MLP'] = yhat\n",
    "print(\"Mean squared error: %.2f\" % np.mean((yhat - y_test) ** 2))"
   ]
  },
  {
   "cell_type": "markdown",
   "id": "87208fff",
   "metadata": {},
   "source": [
    "### DecisionTreeClassifier"
   ]
  },
  {
   "cell_type": "code",
   "execution_count": 160,
   "id": "11ba8684",
   "metadata": {},
   "outputs": [
    {
     "name": "stdout",
     "output_type": "stream",
     "text": [
      "Mean squared error: 1191.20\n"
     ]
    }
   ],
   "source": [
    "reg = DecisionTreeClassifier()\n",
    "reg.fit(X_train, y_train)\n",
    "yhat = reg.predict(X_test)\n",
    "resultsDict['DecisionTreeClassifier'] = evaluate(y_test, yhat)\n",
    "predictionsDict['DecisionTreeClassifier'] = yhat\n",
    "print(\"Mean squared error: %.2f\" % np.mean((yhat - y_test) ** 2))"
   ]
  },
  {
   "cell_type": "markdown",
   "id": "931f240d",
   "metadata": {},
   "source": [
    "### Linear Discriminant Analyser Model\n"
   ]
  },
  {
   "cell_type": "code",
   "execution_count": 161,
   "id": "7275d1bc",
   "metadata": {},
   "outputs": [
    {
     "name": "stdout",
     "output_type": "stream",
     "text": [
      "Mean squared error: 670.97\n"
     ]
    }
   ],
   "source": [
    "reg = LinearDiscriminantAnalysis()\n",
    "reg.fit(X_train, y_train)\n",
    "yhat = reg.predict(X_test)\n",
    "resultsDict['LDA'] = evaluate(y_test, yhat)\n",
    "predictionsDict['LDA'] = yhat\n",
    "print(\"Mean squared error: %.2f\" % np.mean((yhat - y_test) ** 2))"
   ]
  },
  {
   "cell_type": "markdown",
   "id": "1ff1d5d6",
   "metadata": {},
   "source": [
    "### LSTM"
   ]
  },
  {
   "cell_type": "code",
   "execution_count": 185,
   "id": "1638db1d",
   "metadata": {},
   "outputs": [
    {
     "name": "stdout",
     "output_type": "stream",
     "text": [
      "(359, 1, 10) (155, 1, 10) (359,) (155,)\n"
     ]
    },
    {
     "data": {
      "text/plain": [
       "array([[[0.05555556, 0.        , 0.87043189, ..., 0.05339806,\n",
       "         0.63043478, 0.01886792]],\n",
       "\n",
       "       [[0.        , 0.        , 0.69767442, ..., 0.10194175,\n",
       "         0.32608696, 0.01886792]],\n",
       "\n",
       "       [[0.22222222, 0.        , 0.50830565, ..., 0.07281553,\n",
       "         0.47826087, 0.        ]],\n",
       "\n",
       "       ...,\n",
       "\n",
       "       [[0.11111111, 0.        , 0.58139535, ..., 0.11650485,\n",
       "         0.54347826, 0.03773585]],\n",
       "\n",
       "       [[0.11111111, 0.        , 0.56478405, ..., 0.04368932,\n",
       "         0.58695652, 0.05660377]],\n",
       "\n",
       "       [[0.11111111, 0.01724138, 0.58139535, ..., 0.07281553,\n",
       "         0.56521739, 0.01886792]]])"
      ]
     },
     "execution_count": 185,
     "metadata": {},
     "output_type": "execute_result"
    }
   ],
   "source": [
    "tt_X_train = t_X_train.reshape((t_X_train.shape[0], 1, t_X_train.shape[1]))\n",
    "tt_X_test = t_X_test.reshape((t_X_test.shape[0], 1, t_X_test.shape[1]))\n",
    "\n",
    "print(tt_X_train.shape, tt_X_test.shape, y_train.shape, y_test.shape)\n",
    "tt_X_train"
   ]
  },
  {
   "cell_type": "code",
   "execution_count": 188,
   "id": "7cb7541c",
   "metadata": {},
   "outputs": [
    {
     "name": "stdout",
     "output_type": "stream",
     "text": [
      "Epoch 1/20\n",
      "6/6 - 11s - loss: 17173.6191 - val_loss: 18616.4609 - 11s/epoch - 2s/step\n",
      "Epoch 2/20\n",
      "6/6 - 0s - loss: 17165.9004 - val_loss: 18605.5781 - 95ms/epoch - 16ms/step\n",
      "Epoch 3/20\n",
      "6/6 - 0s - loss: 17153.0449 - val_loss: 18586.0332 - 89ms/epoch - 15ms/step\n",
      "Epoch 4/20\n",
      "6/6 - 0s - loss: 17130.2402 - val_loss: 18548.8574 - 86ms/epoch - 14ms/step\n",
      "Epoch 5/20\n",
      "6/6 - 0s - loss: 17086.7695 - val_loss: 18475.7598 - 85ms/epoch - 14ms/step\n",
      "Epoch 6/20\n",
      "6/6 - 0s - loss: 16999.1387 - val_loss: 18331.6719 - 87ms/epoch - 15ms/step\n",
      "Epoch 7/20\n",
      "6/6 - 0s - loss: 16830.3008 - val_loss: 18068.4805 - 83ms/epoch - 14ms/step\n",
      "Epoch 8/20\n",
      "6/6 - 0s - loss: 16541.2090 - val_loss: 17672.9395 - 85ms/epoch - 14ms/step\n",
      "Epoch 9/20\n",
      "6/6 - 0s - loss: 16141.1660 - val_loss: 17225.5781 - 84ms/epoch - 14ms/step\n",
      "Epoch 10/20\n",
      "6/6 - 0s - loss: 15733.6768 - val_loss: 16841.8184 - 87ms/epoch - 15ms/step\n",
      "Epoch 11/20\n",
      "6/6 - 0s - loss: 15410.3818 - val_loss: 16570.6348 - 88ms/epoch - 15ms/step\n",
      "Epoch 12/20\n",
      "6/6 - 0s - loss: 15168.5947 - val_loss: 16388.2598 - 89ms/epoch - 15ms/step\n",
      "Epoch 13/20\n",
      "6/6 - 0s - loss: 14989.4248 - val_loss: 16254.9287 - 89ms/epoch - 15ms/step\n",
      "Epoch 14/20\n",
      "6/6 - 0s - loss: 14901.7979 - val_loss: 16146.1191 - 87ms/epoch - 14ms/step\n",
      "Epoch 15/20\n",
      "6/6 - 0s - loss: 14790.8916 - val_loss: 16050.6787 - 87ms/epoch - 15ms/step\n",
      "Epoch 16/20\n",
      "6/6 - 0s - loss: 14703.3467 - val_loss: 15963.3291 - 78ms/epoch - 13ms/step\n",
      "Epoch 17/20\n",
      "6/6 - 0s - loss: 14655.2217 - val_loss: 15881.4482 - 79ms/epoch - 13ms/step\n",
      "Epoch 18/20\n",
      "6/6 - 0s - loss: 14573.0586 - val_loss: 15803.5420 - 78ms/epoch - 13ms/step\n",
      "Epoch 19/20\n",
      "6/6 - 0s - loss: 14503.3701 - val_loss: 15728.6367 - 84ms/epoch - 14ms/step\n",
      "Epoch 20/20\n",
      "6/6 - 0s - loss: 14443.8076 - val_loss: 15656.2500 - 88ms/epoch - 15ms/step\n"
     ]
    }
   ],
   "source": [
    "model = tf.keras.Sequential()\n",
    "\n",
    "model.add(tf.keras.layers.LSTM(128,input_shape=(tt_X_train.shape[1], tt_X_train.shape[2]),return_sequences=True))\n",
    "model.add(tf.keras.layers.LeakyReLU(alpha=0.5))\n",
    "\n",
    "model.add(tf.keras.layers.LSTM(128,return_sequences=True))\n",
    "model.add(tf.keras.layers.LeakyReLU(alpha = 0.5))\n",
    "model.add(tf.keras.layers.Dropout(0.3))\n",
    "\n",
    "model.add(tf.keras.layers.LSTM(64,return_sequences=False))\n",
    "model.add(tf.keras.layers.Dropout(0.3))\n",
    "\n",
    "model.add(tf.keras.layers.Dense(1))\n",
    "#model = Sequential()\n",
    "\n",
    "#model.add(LSTM(70, activation = 'relu', return_sequences = True, input_shape=(tt_X_train.shape[1], tt_X_train.shape[2])))\n",
    "#model.add(LSTM(50, activation = 'relu'))\n",
    "#model.add(Dropout(0.2))\n",
    "#model.add(Dense(1))\n",
    "model.compile(loss='mean_squared_error', optimizer='adam')\n",
    "\n",
    "# fitting the model\n",
    "history = model.fit(tt_X_train, y_train, epochs=20, batch_size=70, validation_data=(tt_X_test, y_test), verbose=2, shuffle=False)"
   ]
  },
  {
   "cell_type": "code",
   "execution_count": 189,
   "id": "a643d6e7",
   "metadata": {},
   "outputs": [
    {
     "data": {
      "image/png": "[encoded data removed]",
      "text/plain": [
       "<Figure size 432x288 with 1 Axes>"
      ]
     },
     "metadata": {
      "needs_background": "light"
     },
     "output_type": "display_data"
    }
   ],
   "source": [
    "plt.plot(history.history['loss'])\n",
    "plt.plot(history.history['val_loss'])\n",
    "plt.title('model loss')\n",
    "plt.ylabel('loss')\n",
    "plt.xlabel('epoch')\n",
    "plt.legend(['train', 'test'], loc='upper right')\n",
    "plt.show()"
   ]
  },
  {
   "cell_type": "code",
   "execution_count": 190,
   "id": "0cbc96af",
   "metadata": {},
   "outputs": [
    {
     "name": "stdout",
     "output_type": "stream",
     "text": [
      "5/5 [==============================] - 2s 7ms/step\n"
     ]
    }
   ],
   "source": [
    "yhat = model.predict(tt_X_test).reshape(1, -1)[0]\n",
    "resultsDict['LSTM'] = evaluate(y_test, yhat)\n",
    "predictionsDict['LSTM'] = yhat"
   ]
  },
  {
   "cell_type": "code",
   "execution_count": 191,
   "id": "bfa21edb",
   "metadata": {},
   "outputs": [
    {
     "data": {
      "text/plain": [
       "{'BayesianRidge': {'mae': 17.926866059196374,\n",
       "  'rmse': 24.802088237445417,\n",
       "  'mape': 0.3138155708017384,\n",
       "  'r2': 0.9164853033069176},\n",
       " 'Lasso': {'mae': 18.113613345509062,\n",
       "  'rmse': 24.99247635051399,\n",
       "  'mape': 0.3217032054830757,\n",
       "  'r2': 0.9151982154869239},\n",
       " 'RandomForest': {'mae': 12.803032258064514,\n",
       "  'rmse': 19.66336280431691,\n",
       "  'mape': 0.18956485723117847,\n",
       "  'r2': 0.9475069271372495},\n",
       " 'XGBoost': {'mae': 14.180501913255261,\n",
       "  'rmse': 20.957242379184095,\n",
       "  'mape': 0.20521224793047,\n",
       "  'r2': 0.940371390205117},\n",
       " 'SVM RBF': {'mae': 17.48884373744746,\n",
       "  'rmse': 24.14622623523518,\n",
       "  'mape': 0.28532102977322876,\n",
       "  'r2': 0.9208437990259191},\n",
       " 'KNN': {'mae': 13.594946507358799,\n",
       "  'rmse': 19.866533925405825,\n",
       "  'mape': 0.19536434170546133,\n",
       "  'r2': 0.9464165566990972},\n",
       " 'LinearRegression': {'mae': 17.874471410235813,\n",
       "  'rmse': 24.786928450919735,\n",
       "  'mape': 0.3122374689352859,\n",
       "  'r2': 0.9165873655230427},\n",
       " 'MLP': {'mae': 15.240207736677407,\n",
       "  'rmse': 21.700169917954995,\n",
       "  'mape': 0.23375941440048234,\n",
       "  'r2': 0.9360688258466349},\n",
       " 'DecisionTreeClassifier': {'mae': 22.89032258064516,\n",
       "  'rmse': 34.51376536977674,\n",
       "  'mape': 0.3682095681362117,\n",
       "  'r2': 0.8382772578897771},\n",
       " 'LDA': {'mae': 17.696774193548386,\n",
       "  'rmse': 25.90316956568032,\n",
       "  'mape': 0.21790333082992827,\n",
       "  'r2': 0.9089054848339149},\n",
       " 'LSTM': {'mae': 91.29058826815698,\n",
       "  'rmse': 125.12493296382728,\n",
       "  'mape': 0.7039329449505632,\n",
       "  'r2': -1.1255637131069607}}"
      ]
     },
     "execution_count": 191,
     "metadata": {},
     "output_type": "execute_result"
    }
   ],
   "source": [
    "resultsDict"
   ]
  },
  {
   "cell_type": "code",
   "execution_count": 192,
   "id": "e3c090db",
   "metadata": {},
   "outputs": [],
   "source": [
    "df_input=df[['Admission_Total', 'Mortality', 'U60_Mortality', 'O2_saturation',\n",
    "       'ICU_ADD', 'Non_invasive_ventialion ', 'Inutabet_C19_Pt',\n",
    "       'Non-intubated_C19_PT', 'Free_Ventilators', 'Using_Ventialtors',\n",
    "       'Infected_paramedics']]\n"
   ]
  },
  {
   "cell_type": "code",
   "execution_count": 193,
   "id": "0ec87da9",
   "metadata": {},
   "outputs": [],
   "source": [
    "scaler = MinMaxScaler()\n",
    "data_scaled=scaler.fit_transform(df_input)\n"
   ]
  },
  {
   "cell_type": "code",
   "execution_count": 199,
   "id": "ac243fdb",
   "metadata": {},
   "outputs": [
    {
     "data": {
      "text/plain": [
       "array([[0.54907975, 0.5       , 0.06896552, ..., 0.05339806, 0.36956522,\n",
       "        0.45454545],\n",
       "       [0.53374233, 0.38888889, 0.03448276, ..., 0.04854369, 0.60869565,\n",
       "        0.45454545],\n",
       "       [0.59509202, 0.44444444, 0.06896552, ..., 0.04854369, 0.58695652,\n",
       "        0.45454545],\n",
       "       ...,\n",
       "       [0.06441718, 0.        , 0.        , ..., 0.11650485, 0.76086957,\n",
       "        0.        ],\n",
       "       [0.05828221, 0.11111111, 0.        , ..., 0.13592233, 0.7173913 ,\n",
       "        0.        ],\n",
       "       [0.04907975, 0.11111111, 0.        , ..., 0.07281553, 1.        ,\n",
       "        0.        ]])"
      ]
     },
     "execution_count": 199,
     "metadata": {},
     "output_type": "execute_result"
    }
   ],
   "source": [
    "data_scaled\n"
   ]
  },
  {
   "cell_type": "code",
   "execution_count": 207,
   "id": "52d13fbd",
   "metadata": {},
   "outputs": [],
   "source": [
    "features = data_scaled\n",
    "target = data_scaled[:,0]\n"
   ]
  },
  {
   "cell_type": "code",
   "execution_count": 204,
   "id": "8400a25a",
   "metadata": {},
   "outputs": [],
   "source": [
    "xtrain,xtest,ytrain,ytest=train_test_split(features,target,test_size=0.30,random_state=123,shuffle=False)"
   ]
  },
  {
   "cell_type": "code",
   "execution_count": 205,
   "id": "78d347c6",
   "metadata": {},
   "outputs": [
    {
     "name": "stdout",
     "output_type": "stream",
     "text": [
      "(359, 11) (155, 11) (359,) (155,)\n"
     ]
    }
   ],
   "source": [
    "print(xtrain.shape, xtest.shape, ytrain.shape, ytest.shape)"
   ]
  },
  {
   "cell_type": "code",
   "execution_count": 177,
   "id": "7e15cdd8",
   "metadata": {},
   "outputs": [],
   "source": [
    "win_length=1\n",
    "batch_size=32\n",
    "num_features=10\n",
    "train_generator = TimeseriesGenerator(xtrain, ytrain, length=win_length, sampling_rate=1, batch_size=batch_size)\n",
    "test_generator = TimeseriesGenerator(xtest, ytest, length=win_length, sampling_rate=1, batch_size=batch_size)"
   ]
  },
  {
   "cell_type": "code",
   "execution_count": 178,
   "id": "27d9e7f1",
   "metadata": {},
   "outputs": [],
   "source": [
    "model = tf.keras.Sequential()\n",
    "\n",
    "model.add(tf.keras.layers.LSTM(128,input_shape=(win_length,num_features),return_sequences=True))\n",
    "model.add(tf.keras.layers.LeakyReLU(alpha=0.5))\n",
    "\n",
    "model.add(tf.keras.layers.LSTM(128,return_sequences=True))\n",
    "model.add(tf.keras.layers.LeakyReLU(alpha = 0.5))\n",
    "model.add(tf.keras.layers.Dropout(0.3))\n",
    "\n",
    "model.add(tf.keras.layers.LSTM(64,return_sequences=False))\n",
    "model.add(tf.keras.layers.Dropout(0.3))\n",
    "\n",
    "model.add(tf.keras.layers.Dense(1))"
   ]
  },
  {
   "cell_type": "code",
   "execution_count": 179,
   "id": "8f91c2b3",
   "metadata": {},
   "outputs": [
    {
     "name": "stdout",
     "output_type": "stream",
     "text": [
      "Model: \"sequential_5\"\n",
      "_________________________________________________________________\n",
      " Layer (type)                Output Shape              Param #   \n",
      "=================================================================\n",
      " lstm_13 (LSTM)              (None, 1, 128)            71168     \n",
      "                                                                 \n",
      " leaky_re_lu_6 (LeakyReLU)   (None, 1, 128)            0         \n",
      "                                                                 \n",
      " lstm_14 (LSTM)              (None, 1, 128)            131584    \n",
      "                                                                 \n",
      " leaky_re_lu_7 (LeakyReLU)   (None, 1, 128)            0         \n",
      "                                                                 \n",
      " dropout_8 (Dropout)         (None, 1, 128)            0         \n",
      "                                                                 \n",
      " lstm_15 (LSTM)              (None, 64)                49408     \n",
      "                                                                 \n",
      " dropout_9 (Dropout)         (None, 64)                0         \n",
      "                                                                 \n",
      " dense_5 (Dense)             (None, 1)                 65        \n",
      "                                                                 \n",
      "=================================================================\n",
      "Total params: 252,225\n",
      "Trainable params: 252,225\n",
      "Non-trainable params: 0\n",
      "_________________________________________________________________\n"
     ]
    }
   ],
   "source": [
    "model.summary()\n"
   ]
  },
  {
   "cell_type": "code",
   "execution_count": 180,
   "id": "5c9b6bb3",
   "metadata": {},
   "outputs": [],
   "source": [
    "early_stopping = tf.keras.callbacks.EarlyStopping(monitor='val_loss',patience=2,mode='min')"
   ]
  },
  {
   "cell_type": "code",
   "execution_count": 181,
   "id": "32e137fc",
   "metadata": {},
   "outputs": [],
   "source": [
    "model.compile(\n",
    "    loss=tf.losses.MeanSquaredError(),\n",
    "    optimizer=tf.optimizers.Adam(),\n",
    "    metrics=[tf.metrics.MeanAbsoluteError()]\n",
    ")"
   ]
  },
  {
   "cell_type": "code",
   "execution_count": 182,
   "id": "2a64c1fc",
   "metadata": {},
   "outputs": [
    {
     "name": "stdout",
     "output_type": "stream",
     "text": [
      "Epoch 1/50\n"
     ]
    },
    {
     "ename": "InvalidArgumentError",
     "evalue": "Graph execution error:\n\nSpecified a list with shape [?,10] from a tensor with shape [32,11]\n\t [[{{node TensorArrayUnstack/TensorListFromTensor}}]]\n\t [[sequential_5/lstm_13/PartitionedCall]] [Op:__inference_train_function_53799]",
     "output_type": "error",
     "traceback": [
      "\u001b[1;31m---------------------------------------------------------------------------\u001b[0m",
      "\u001b[1;31mInvalidArgumentError\u001b[0m                      Traceback (most recent call last)",
      "Input \u001b[1;32mIn [182]\u001b[0m, in \u001b[0;36m<cell line: 1>\u001b[1;34m()\u001b[0m\n\u001b[1;32m----> 1\u001b[0m history \u001b[38;5;241m=\u001b[39m \u001b[43mmodel\u001b[49m\u001b[38;5;241;43m.\u001b[39;49m\u001b[43mfit_generator\u001b[49m\u001b[43m(\u001b[49m\n\u001b[0;32m      2\u001b[0m \u001b[43m    \u001b[49m\u001b[43mtrain_generator\u001b[49m\u001b[43m,\u001b[49m\n\u001b[0;32m      3\u001b[0m \u001b[43m    \u001b[49m\u001b[43mepochs\u001b[49m\u001b[38;5;241;43m=\u001b[39;49m\u001b[38;5;241;43m50\u001b[39;49m\u001b[43m,\u001b[49m\n\u001b[0;32m      4\u001b[0m \u001b[43m    \u001b[49m\u001b[43mvalidation_data\u001b[49m\u001b[38;5;241;43m=\u001b[39;49m\u001b[43mtest_generator\u001b[49m\u001b[43m,\u001b[49m\n\u001b[0;32m      5\u001b[0m \u001b[43m    \u001b[49m\u001b[43mshuffle\u001b[49m\u001b[38;5;241;43m=\u001b[39;49m\u001b[38;5;28;43;01mFalse\u001b[39;49;00m\u001b[43m,\u001b[49m\n\u001b[0;32m      6\u001b[0m \u001b[43m    \u001b[49m\u001b[43mcallbacks\u001b[49m\u001b[43m \u001b[49m\u001b[38;5;241;43m=\u001b[39;49m\u001b[43m \u001b[49m\u001b[43m[\u001b[49m\u001b[43mearly_stopping\u001b[49m\u001b[43m]\u001b[49m\n\u001b[0;32m      7\u001b[0m \u001b[43m)\u001b[49m\n",
      "File \u001b[1;32m~\\AppData\\Roaming\\Python\\Python39\\site-packages\\keras\\engine\\training.py:2260\u001b[0m, in \u001b[0;36mModel.fit_generator\u001b[1;34m(self, generator, steps_per_epoch, epochs, verbose, callbacks, validation_data, validation_steps, validation_freq, class_weight, max_queue_size, workers, use_multiprocessing, shuffle, initial_epoch)\u001b[0m\n\u001b[0;32m   2249\u001b[0m \u001b[38;5;124;03m\"\"\"Fits the model on data yielded batch-by-batch by a Python generator.\u001b[39;00m\n\u001b[0;32m   2250\u001b[0m \n\u001b[0;32m   2251\u001b[0m \u001b[38;5;124;03mDEPRECATED:\u001b[39;00m\n\u001b[0;32m   2252\u001b[0m \u001b[38;5;124;03m  `Model.fit` now supports generators, so there is no longer any need to use\u001b[39;00m\n\u001b[0;32m   2253\u001b[0m \u001b[38;5;124;03m  this endpoint.\u001b[39;00m\n\u001b[0;32m   2254\u001b[0m \u001b[38;5;124;03m\"\"\"\u001b[39;00m\n\u001b[0;32m   2255\u001b[0m warnings\u001b[38;5;241m.\u001b[39mwarn(\n\u001b[0;32m   2256\u001b[0m     \u001b[38;5;124m'\u001b[39m\u001b[38;5;124m`Model.fit_generator` is deprecated and \u001b[39m\u001b[38;5;124m'\u001b[39m\n\u001b[0;32m   2257\u001b[0m     \u001b[38;5;124m'\u001b[39m\u001b[38;5;124mwill be removed in a future version. \u001b[39m\u001b[38;5;124m'\u001b[39m\n\u001b[0;32m   2258\u001b[0m     \u001b[38;5;124m'\u001b[39m\u001b[38;5;124mPlease use `Model.fit`, which supports generators.\u001b[39m\u001b[38;5;124m'\u001b[39m,\n\u001b[0;32m   2259\u001b[0m     stacklevel\u001b[38;5;241m=\u001b[39m\u001b[38;5;241m2\u001b[39m)\n\u001b[1;32m-> 2260\u001b[0m \u001b[38;5;28;01mreturn\u001b[39;00m \u001b[38;5;28;43mself\u001b[39;49m\u001b[38;5;241;43m.\u001b[39;49m\u001b[43mfit\u001b[49m\u001b[43m(\u001b[49m\n\u001b[0;32m   2261\u001b[0m \u001b[43m    \u001b[49m\u001b[43mgenerator\u001b[49m\u001b[43m,\u001b[49m\n\u001b[0;32m   2262\u001b[0m \u001b[43m    \u001b[49m\u001b[43msteps_per_epoch\u001b[49m\u001b[38;5;241;43m=\u001b[39;49m\u001b[43msteps_per_epoch\u001b[49m\u001b[43m,\u001b[49m\n\u001b[0;32m   2263\u001b[0m \u001b[43m    \u001b[49m\u001b[43mepochs\u001b[49m\u001b[38;5;241;43m=\u001b[39;49m\u001b[43mepochs\u001b[49m\u001b[43m,\u001b[49m\n\u001b[0;32m   2264\u001b[0m \u001b[43m    \u001b[49m\u001b[43mverbose\u001b[49m\u001b[38;5;241;43m=\u001b[39;49m\u001b[43mverbose\u001b[49m\u001b[43m,\u001b[49m\n\u001b[0;32m   2265\u001b[0m \u001b[43m    \u001b[49m\u001b[43mcallbacks\u001b[49m\u001b[38;5;241;43m=\u001b[39;49m\u001b[43mcallbacks\u001b[49m\u001b[43m,\u001b[49m\n\u001b[0;32m   2266\u001b[0m \u001b[43m    \u001b[49m\u001b[43mvalidation_data\u001b[49m\u001b[38;5;241;43m=\u001b[39;49m\u001b[43mvalidation_data\u001b[49m\u001b[43m,\u001b[49m\n\u001b[0;32m   2267\u001b[0m \u001b[43m    \u001b[49m\u001b[43mvalidation_steps\u001b[49m\u001b[38;5;241;43m=\u001b[39;49m\u001b[43mvalidation_steps\u001b[49m\u001b[43m,\u001b[49m\n\u001b[0;32m   2268\u001b[0m \u001b[43m    \u001b[49m\u001b[43mvalidation_freq\u001b[49m\u001b[38;5;241;43m=\u001b[39;49m\u001b[43mvalidation_freq\u001b[49m\u001b[43m,\u001b[49m\n\u001b[0;32m   2269\u001b[0m \u001b[43m    \u001b[49m\u001b[43mclass_weight\u001b[49m\u001b[38;5;241;43m=\u001b[39;49m\u001b[43mclass_weight\u001b[49m\u001b[43m,\u001b[49m\n\u001b[0;32m   2270\u001b[0m \u001b[43m    \u001b[49m\u001b[43mmax_queue_size\u001b[49m\u001b[38;5;241;43m=\u001b[39;49m\u001b[43mmax_queue_size\u001b[49m\u001b[43m,\u001b[49m\n\u001b[0;32m   2271\u001b[0m \u001b[43m    \u001b[49m\u001b[43mworkers\u001b[49m\u001b[38;5;241;43m=\u001b[39;49m\u001b[43mworkers\u001b[49m\u001b[43m,\u001b[49m\n\u001b[0;32m   2272\u001b[0m \u001b[43m    \u001b[49m\u001b[43muse_multiprocessing\u001b[49m\u001b[38;5;241;43m=\u001b[39;49m\u001b[43muse_multiprocessing\u001b[49m\u001b[43m,\u001b[49m\n\u001b[0;32m   2273\u001b[0m \u001b[43m    \u001b[49m\u001b[43mshuffle\u001b[49m\u001b[38;5;241;43m=\u001b[39;49m\u001b[43mshuffle\u001b[49m\u001b[43m,\u001b[49m\n\u001b[0;32m   2274\u001b[0m \u001b[43m    \u001b[49m\u001b[43minitial_epoch\u001b[49m\u001b[38;5;241;43m=\u001b[39;49m\u001b[43minitial_epoch\u001b[49m\u001b[43m)\u001b[49m\n",
      "File \u001b[1;32m~\\AppData\\Roaming\\Python\\Python39\\site-packages\\keras\\utils\\traceback_utils.py:67\u001b[0m, in \u001b[0;36mfilter_traceback.<locals>.error_handler\u001b[1;34m(*args, **kwargs)\u001b[0m\n\u001b[0;32m     65\u001b[0m \u001b[38;5;28;01mexcept\u001b[39;00m \u001b[38;5;167;01mException\u001b[39;00m \u001b[38;5;28;01mas\u001b[39;00m e:  \u001b[38;5;66;03m# pylint: disable=broad-except\u001b[39;00m\n\u001b[0;32m     66\u001b[0m   filtered_tb \u001b[38;5;241m=\u001b[39m _process_traceback_frames(e\u001b[38;5;241m.\u001b[39m__traceback__)\n\u001b[1;32m---> 67\u001b[0m   \u001b[38;5;28;01mraise\u001b[39;00m e\u001b[38;5;241m.\u001b[39mwith_traceback(filtered_tb) \u001b[38;5;28;01mfrom\u001b[39;00m \u001b[38;5;28mNone\u001b[39m\n\u001b[0;32m     68\u001b[0m \u001b[38;5;28;01mfinally\u001b[39;00m:\n\u001b[0;32m     69\u001b[0m   \u001b[38;5;28;01mdel\u001b[39;00m filtered_tb\n",
      "File \u001b[1;32m~\\AppData\\Roaming\\Python\\Python39\\site-packages\\tensorflow\\python\\eager\\execute.py:54\u001b[0m, in \u001b[0;36mquick_execute\u001b[1;34m(op_name, num_outputs, inputs, attrs, ctx, name)\u001b[0m\n\u001b[0;32m     52\u001b[0m \u001b[38;5;28;01mtry\u001b[39;00m:\n\u001b[0;32m     53\u001b[0m   ctx\u001b[38;5;241m.\u001b[39mensure_initialized()\n\u001b[1;32m---> 54\u001b[0m   tensors \u001b[38;5;241m=\u001b[39m pywrap_tfe\u001b[38;5;241m.\u001b[39mTFE_Py_Execute(ctx\u001b[38;5;241m.\u001b[39m_handle, device_name, op_name,\n\u001b[0;32m     55\u001b[0m                                       inputs, attrs, num_outputs)\n\u001b[0;32m     56\u001b[0m \u001b[38;5;28;01mexcept\u001b[39;00m core\u001b[38;5;241m.\u001b[39m_NotOkStatusException \u001b[38;5;28;01mas\u001b[39;00m e:\n\u001b[0;32m     57\u001b[0m   \u001b[38;5;28;01mif\u001b[39;00m name \u001b[38;5;129;01mis\u001b[39;00m \u001b[38;5;129;01mnot\u001b[39;00m \u001b[38;5;28;01mNone\u001b[39;00m:\n",
      "\u001b[1;31mInvalidArgumentError\u001b[0m: Graph execution error:\n\nSpecified a list with shape [?,10] from a tensor with shape [32,11]\n\t [[{{node TensorArrayUnstack/TensorListFromTensor}}]]\n\t [[sequential_5/lstm_13/PartitionedCall]] [Op:__inference_train_function_53799]"
     ]
    }
   ],
   "source": [
    "history = model.fit_generator(\n",
    "    train_generator,\n",
    "    epochs=50,\n",
    "    validation_data=test_generator,\n",
    "    shuffle=False,\n",
    "    callbacks = [early_stopping]\n",
    ")"
   ]
  },
  {
   "cell_type": "code",
   "execution_count": null,
   "id": "c7f9cb5f",
   "metadata": {},
   "outputs": [],
   "source": [
    "model.evaluate_generator(test_generator,verbose=0)"
   ]
  },
  {
   "cell_type": "code",
   "execution_count": 129,
   "id": "2d6aa813",
   "metadata": {},
   "outputs": [],
   "source": [
    "predictions = model.predict_generator(test_generator)"
   ]
  },
  {
   "cell_type": "code",
   "execution_count": 130,
   "id": "b68ea528",
   "metadata": {},
   "outputs": [
    {
     "data": {
      "text/plain": [
       "(145, 1)"
      ]
     },
     "execution_count": 130,
     "metadata": {},
     "output_type": "execute_result"
    }
   ],
   "source": [
    "predictions.shape"
   ]
  },
  {
   "cell_type": "code",
   "execution_count": 106,
   "id": "3ce34eb6",
   "metadata": {},
   "outputs": [],
   "source": [
    "yhat = predictions.flatten()"
   ]
  },
  {
   "cell_type": "code",
   "execution_count": 107,
   "id": "b10b9d2b",
   "metadata": {},
   "outputs": [
    {
     "data": {
      "text/plain": [
       "array([[0.22222222, 0.01724138, 0.69069069, ..., 0.07281553, 0.52173913,\n",
       "        0.03636364],\n",
       "       [0.11111111, 0.        , 0.69069069, ..., 0.04368932, 0.67391304,\n",
       "        0.        ],\n",
       "       [0.16666667, 0.01724138, 0.69069069, ..., 0.03398058, 0.67391304,\n",
       "        0.03636364],\n",
       "       ...,\n",
       "       [0.        , 0.        , 0.66066066, ..., 0.11650485, 0.76086957,\n",
       "        0.        ],\n",
       "       [0.11111111, 0.        , 0.72072072, ..., 0.13592233, 0.7173913 ,\n",
       "        0.        ],\n",
       "       [0.11111111, 0.        , 0.6006006 , ..., 0.07281553, 1.        ,\n",
       "        0.        ]])"
      ]
     },
     "execution_count": 107,
     "metadata": {},
     "output_type": "execute_result"
    }
   ],
   "source": [
    "xtest[:,1:][win_length:]\n"
   ]
  },
  {
   "cell_type": "code",
   "execution_count": 108,
   "id": "580780c1",
   "metadata": {},
   "outputs": [],
   "source": [
    "df_pred=pd.concat([pd.DataFrame(predictions), pd.DataFrame(xtest[:,1:][win_length:])],axis=1)\n"
   ]
  },
  {
   "cell_type": "code",
   "execution_count": 109,
   "id": "b583b4fa",
   "metadata": {},
   "outputs": [
    {
     "data": {
      "text/html": [
       "<div>\n",
       "<style scoped>\n",
       "    .dataframe tbody tr th:only-of-type {\n",
       "        vertical-align: middle;\n",
       "    }\n",
       "\n",
       "    .dataframe tbody tr th {\n",
       "        vertical-align: top;\n",
       "    }\n",
       "\n",
       "    .dataframe thead th {\n",
       "        text-align: right;\n",
       "    }\n",
       "</style>\n",
       "<table border=\"1\" class=\"dataframe\">\n",
       "  <thead>\n",
       "    <tr style=\"text-align: right;\">\n",
       "      <th></th>\n",
       "      <th>0</th>\n",
       "      <th>0</th>\n",
       "      <th>1</th>\n",
       "      <th>2</th>\n",
       "      <th>3</th>\n",
       "      <th>4</th>\n",
       "      <th>5</th>\n",
       "      <th>6</th>\n",
       "      <th>7</th>\n",
       "      <th>8</th>\n",
       "      <th>9</th>\n",
       "    </tr>\n",
       "  </thead>\n",
       "  <tbody>\n",
       "    <tr>\n",
       "      <th>0</th>\n",
       "      <td>0.130866</td>\n",
       "      <td>0.222222</td>\n",
       "      <td>0.017241</td>\n",
       "      <td>0.690691</td>\n",
       "      <td>0.000000</td>\n",
       "      <td>0.325581</td>\n",
       "      <td>0.24</td>\n",
       "      <td>0.56</td>\n",
       "      <td>0.072816</td>\n",
       "      <td>0.521739</td>\n",
       "      <td>0.036364</td>\n",
       "    </tr>\n",
       "    <tr>\n",
       "      <th>1</th>\n",
       "      <td>0.132742</td>\n",
       "      <td>0.111111</td>\n",
       "      <td>0.000000</td>\n",
       "      <td>0.690691</td>\n",
       "      <td>0.021277</td>\n",
       "      <td>0.209302</td>\n",
       "      <td>0.32</td>\n",
       "      <td>0.66</td>\n",
       "      <td>0.043689</td>\n",
       "      <td>0.673913</td>\n",
       "      <td>0.000000</td>\n",
       "    </tr>\n",
       "    <tr>\n",
       "      <th>2</th>\n",
       "      <td>0.125182</td>\n",
       "      <td>0.166667</td>\n",
       "      <td>0.017241</td>\n",
       "      <td>0.690691</td>\n",
       "      <td>0.000000</td>\n",
       "      <td>0.511628</td>\n",
       "      <td>0.24</td>\n",
       "      <td>0.70</td>\n",
       "      <td>0.033981</td>\n",
       "      <td>0.673913</td>\n",
       "      <td>0.036364</td>\n",
       "    </tr>\n",
       "    <tr>\n",
       "      <th>3</th>\n",
       "      <td>0.128431</td>\n",
       "      <td>0.166667</td>\n",
       "      <td>0.034483</td>\n",
       "      <td>0.690691</td>\n",
       "      <td>0.000000</td>\n",
       "      <td>0.209302</td>\n",
       "      <td>0.20</td>\n",
       "      <td>0.70</td>\n",
       "      <td>0.019417</td>\n",
       "      <td>0.565217</td>\n",
       "      <td>0.036364</td>\n",
       "    </tr>\n",
       "    <tr>\n",
       "      <th>4</th>\n",
       "      <td>0.130898</td>\n",
       "      <td>0.055556</td>\n",
       "      <td>0.000000</td>\n",
       "      <td>0.630631</td>\n",
       "      <td>0.021277</td>\n",
       "      <td>0.232558</td>\n",
       "      <td>0.24</td>\n",
       "      <td>0.62</td>\n",
       "      <td>0.063107</td>\n",
       "      <td>0.586957</td>\n",
       "      <td>0.036364</td>\n",
       "    </tr>\n",
       "    <tr>\n",
       "      <th>...</th>\n",
       "      <td>...</td>\n",
       "      <td>...</td>\n",
       "      <td>...</td>\n",
       "      <td>...</td>\n",
       "      <td>...</td>\n",
       "      <td>...</td>\n",
       "      <td>...</td>\n",
       "      <td>...</td>\n",
       "      <td>...</td>\n",
       "      <td>...</td>\n",
       "      <td>...</td>\n",
       "    </tr>\n",
       "    <tr>\n",
       "      <th>145</th>\n",
       "      <td>0.103738</td>\n",
       "      <td>0.000000</td>\n",
       "      <td>0.000000</td>\n",
       "      <td>0.600601</td>\n",
       "      <td>0.021277</td>\n",
       "      <td>0.139535</td>\n",
       "      <td>0.24</td>\n",
       "      <td>0.62</td>\n",
       "      <td>0.150485</td>\n",
       "      <td>0.586957</td>\n",
       "      <td>0.000000</td>\n",
       "    </tr>\n",
       "    <tr>\n",
       "      <th>146</th>\n",
       "      <td>0.100193</td>\n",
       "      <td>0.000000</td>\n",
       "      <td>0.000000</td>\n",
       "      <td>0.600601</td>\n",
       "      <td>0.042553</td>\n",
       "      <td>0.116279</td>\n",
       "      <td>0.24</td>\n",
       "      <td>0.74</td>\n",
       "      <td>0.145631</td>\n",
       "      <td>0.717391</td>\n",
       "      <td>0.000000</td>\n",
       "    </tr>\n",
       "    <tr>\n",
       "      <th>147</th>\n",
       "      <td>0.099972</td>\n",
       "      <td>0.000000</td>\n",
       "      <td>0.000000</td>\n",
       "      <td>0.660661</td>\n",
       "      <td>0.021277</td>\n",
       "      <td>0.162791</td>\n",
       "      <td>0.24</td>\n",
       "      <td>0.78</td>\n",
       "      <td>0.116505</td>\n",
       "      <td>0.760870</td>\n",
       "      <td>0.000000</td>\n",
       "    </tr>\n",
       "    <tr>\n",
       "      <th>148</th>\n",
       "      <td>0.098746</td>\n",
       "      <td>0.111111</td>\n",
       "      <td>0.000000</td>\n",
       "      <td>0.720721</td>\n",
       "      <td>0.000000</td>\n",
       "      <td>0.162791</td>\n",
       "      <td>0.24</td>\n",
       "      <td>0.74</td>\n",
       "      <td>0.135922</td>\n",
       "      <td>0.717391</td>\n",
       "      <td>0.000000</td>\n",
       "    </tr>\n",
       "    <tr>\n",
       "      <th>149</th>\n",
       "      <td>0.101376</td>\n",
       "      <td>0.111111</td>\n",
       "      <td>0.000000</td>\n",
       "      <td>0.600601</td>\n",
       "      <td>0.000000</td>\n",
       "      <td>0.139535</td>\n",
       "      <td>0.24</td>\n",
       "      <td>1.00</td>\n",
       "      <td>0.072816</td>\n",
       "      <td>1.000000</td>\n",
       "      <td>0.000000</td>\n",
       "    </tr>\n",
       "  </tbody>\n",
       "</table>\n",
       "<p>150 rows × 11 columns</p>\n",
       "</div>"
      ],
      "text/plain": [
       "            0         0         1         2         3         4     5     6  \\\n",
       "0    0.130866  0.222222  0.017241  0.690691  0.000000  0.325581  0.24  0.56   \n",
       "1    0.132742  0.111111  0.000000  0.690691  0.021277  0.209302  0.32  0.66   \n",
       "2    0.125182  0.166667  0.017241  0.690691  0.000000  0.511628  0.24  0.70   \n",
       "3    0.128431  0.166667  0.034483  0.690691  0.000000  0.209302  0.20  0.70   \n",
       "4    0.130898  0.055556  0.000000  0.630631  0.021277  0.232558  0.24  0.62   \n",
       "..        ...       ...       ...       ...       ...       ...   ...   ...   \n",
       "145  0.103738  0.000000  0.000000  0.600601  0.021277  0.139535  0.24  0.62   \n",
       "146  0.100193  0.000000  0.000000  0.600601  0.042553  0.116279  0.24  0.74   \n",
       "147  0.099972  0.000000  0.000000  0.660661  0.021277  0.162791  0.24  0.78   \n",
       "148  0.098746  0.111111  0.000000  0.720721  0.000000  0.162791  0.24  0.74   \n",
       "149  0.101376  0.111111  0.000000  0.600601  0.000000  0.139535  0.24  1.00   \n",
       "\n",
       "            7         8         9  \n",
       "0    0.072816  0.521739  0.036364  \n",
       "1    0.043689  0.673913  0.000000  \n",
       "2    0.033981  0.673913  0.036364  \n",
       "3    0.019417  0.565217  0.036364  \n",
       "4    0.063107  0.586957  0.036364  \n",
       "..        ...       ...       ...  \n",
       "145  0.150485  0.586957  0.000000  \n",
       "146  0.145631  0.717391  0.000000  \n",
       "147  0.116505  0.760870  0.000000  \n",
       "148  0.135922  0.717391  0.000000  \n",
       "149  0.072816  1.000000  0.000000  \n",
       "\n",
       "[150 rows x 11 columns]"
      ]
     },
     "execution_count": 109,
     "metadata": {},
     "output_type": "execute_result"
    }
   ],
   "source": [
    "df_pred"
   ]
  },
  {
   "cell_type": "code",
   "execution_count": 110,
   "id": "4c8eb0d4",
   "metadata": {},
   "outputs": [],
   "source": [
    "rev_trans=scaler.inverse_transform(df_pred)\n"
   ]
  },
  {
   "cell_type": "code",
   "execution_count": 111,
   "id": "1d659ca9",
   "metadata": {},
   "outputs": [
    {
     "data": {
      "text/plain": [
       "array([[49.66230825,  4.        ,  1.        , ..., 23.        ,\n",
       "        34.        ,  2.        ],\n",
       "       [50.27381027,  2.        ,  0.        , ..., 17.        ,\n",
       "        41.        ,  0.        ],\n",
       "       [47.80919689,  3.        ,  1.        , ..., 15.        ,\n",
       "        41.        ,  2.        ],\n",
       "       ...,\n",
       "       [39.5907197 ,  0.        ,  0.        , ..., 32.        ,\n",
       "        45.        ,  0.        ],\n",
       "       [39.19133744,  2.        ,  0.        , ..., 36.        ,\n",
       "        43.        ,  0.        ],\n",
       "       [40.04850703,  2.        ,  0.        , ..., 23.        ,\n",
       "        56.        ,  0.        ]])"
      ]
     },
     "execution_count": 111,
     "metadata": {},
     "output_type": "execute_result"
    }
   ],
   "source": [
    "rev_trans\n"
   ]
  },
  {
   "cell_type": "code",
   "execution_count": 112,
   "id": "fac552c2",
   "metadata": {},
   "outputs": [],
   "source": [
    "df_final=df_input[predictions.shape[0]*-1:]\n"
   ]
  },
  {
   "cell_type": "code",
   "execution_count": 113,
   "id": "d5af0c4a",
   "metadata": {},
   "outputs": [
    {
     "data": {
      "text/plain": [
       "Admission_Total             150\n",
       "Mortality                   150\n",
       "U60_Mortality               150\n",
       "O2_saturation               150\n",
       "ICU_ADD                     150\n",
       "Non_invasive_ventialion     150\n",
       "Inutabet_C19_Pt             150\n",
       "Non-intubated_C19_PT        150\n",
       "Free_Ventilators            150\n",
       "Using_Ventialtors           150\n",
       "Infected_paramedics         150\n",
       "dtype: int64"
      ]
     },
     "execution_count": 113,
     "metadata": {},
     "output_type": "execute_result"
    }
   ],
   "source": [
    "df_final.count()\n"
   ]
  },
  {
   "cell_type": "code",
   "execution_count": 114,
   "id": "a06b5620",
   "metadata": {},
   "outputs": [],
   "source": [
    "df_final=df_input[predictions.shape[0]*-1:]\n"
   ]
  },
  {
   "cell_type": "code",
   "execution_count": 115,
   "id": "7ef57f9c",
   "metadata": {},
   "outputs": [
    {
     "data": {
      "text/plain": [
       "Admission_Total             150\n",
       "Mortality                   150\n",
       "U60_Mortality               150\n",
       "O2_saturation               150\n",
       "ICU_ADD                     150\n",
       "Non_invasive_ventialion     150\n",
       "Inutabet_C19_Pt             150\n",
       "Non-intubated_C19_PT        150\n",
       "Free_Ventilators            150\n",
       "Using_Ventialtors           150\n",
       "Infected_paramedics         150\n",
       "dtype: int64"
      ]
     },
     "execution_count": 115,
     "metadata": {},
     "output_type": "execute_result"
    }
   ],
   "source": [
    "df_final.count()\n"
   ]
  },
  {
   "cell_type": "code",
   "execution_count": 116,
   "id": "4a5c1bce",
   "metadata": {},
   "outputs": [
    {
     "data": {
      "text/html": [
       "<div>\n",
       "<style scoped>\n",
       "    .dataframe tbody tr th:only-of-type {\n",
       "        vertical-align: middle;\n",
       "    }\n",
       "\n",
       "    .dataframe tbody tr th {\n",
       "        vertical-align: top;\n",
       "    }\n",
       "\n",
       "    .dataframe thead th {\n",
       "        text-align: right;\n",
       "    }\n",
       "</style>\n",
       "<table border=\"1\" class=\"dataframe\">\n",
       "  <thead>\n",
       "    <tr style=\"text-align: right;\">\n",
       "      <th></th>\n",
       "      <th>Admission_Total</th>\n",
       "      <th>Mortality</th>\n",
       "      <th>U60_Mortality</th>\n",
       "      <th>O2_saturation</th>\n",
       "      <th>ICU_ADD</th>\n",
       "      <th>Non_invasive_ventialion</th>\n",
       "      <th>Inutabet_C19_Pt</th>\n",
       "      <th>Non-intubated_C19_PT</th>\n",
       "      <th>Free_Ventilators</th>\n",
       "      <th>Using_Ventialtors</th>\n",
       "      <th>Infected_paramedics</th>\n",
       "      <th>Admission_Total_pred</th>\n",
       "    </tr>\n",
       "    <tr>\n",
       "      <th>Date</th>\n",
       "      <th></th>\n",
       "      <th></th>\n",
       "      <th></th>\n",
       "      <th></th>\n",
       "      <th></th>\n",
       "      <th></th>\n",
       "      <th></th>\n",
       "      <th></th>\n",
       "      <th></th>\n",
       "      <th></th>\n",
       "      <th></th>\n",
       "      <th></th>\n",
       "    </tr>\n",
       "  </thead>\n",
       "  <tbody>\n",
       "    <tr>\n",
       "      <th>2021-10-22</th>\n",
       "      <td>73</td>\n",
       "      <td>4</td>\n",
       "      <td>1</td>\n",
       "      <td>83.0</td>\n",
       "      <td>0</td>\n",
       "      <td>14</td>\n",
       "      <td>6</td>\n",
       "      <td>28</td>\n",
       "      <td>23</td>\n",
       "      <td>34</td>\n",
       "      <td>2</td>\n",
       "      <td>49.662308</td>\n",
       "    </tr>\n",
       "    <tr>\n",
       "      <th>2021-10-23</th>\n",
       "      <td>77</td>\n",
       "      <td>2</td>\n",
       "      <td>0</td>\n",
       "      <td>83.0</td>\n",
       "      <td>1</td>\n",
       "      <td>9</td>\n",
       "      <td>8</td>\n",
       "      <td>33</td>\n",
       "      <td>17</td>\n",
       "      <td>41</td>\n",
       "      <td>0</td>\n",
       "      <td>50.273810</td>\n",
       "    </tr>\n",
       "    <tr>\n",
       "      <th>2021-10-24</th>\n",
       "      <td>76</td>\n",
       "      <td>3</td>\n",
       "      <td>1</td>\n",
       "      <td>83.0</td>\n",
       "      <td>0</td>\n",
       "      <td>22</td>\n",
       "      <td>6</td>\n",
       "      <td>35</td>\n",
       "      <td>15</td>\n",
       "      <td>41</td>\n",
       "      <td>2</td>\n",
       "      <td>47.809197</td>\n",
       "    </tr>\n",
       "    <tr>\n",
       "      <th>2021-10-25</th>\n",
       "      <td>71</td>\n",
       "      <td>3</td>\n",
       "      <td>2</td>\n",
       "      <td>83.0</td>\n",
       "      <td>0</td>\n",
       "      <td>9</td>\n",
       "      <td>5</td>\n",
       "      <td>35</td>\n",
       "      <td>12</td>\n",
       "      <td>36</td>\n",
       "      <td>2</td>\n",
       "      <td>48.868567</td>\n",
       "    </tr>\n",
       "    <tr>\n",
       "      <th>2021-10-26</th>\n",
       "      <td>66</td>\n",
       "      <td>1</td>\n",
       "      <td>0</td>\n",
       "      <td>81.0</td>\n",
       "      <td>1</td>\n",
       "      <td>10</td>\n",
       "      <td>6</td>\n",
       "      <td>31</td>\n",
       "      <td>21</td>\n",
       "      <td>37</td>\n",
       "      <td>2</td>\n",
       "      <td>49.672796</td>\n",
       "    </tr>\n",
       "    <tr>\n",
       "      <th>...</th>\n",
       "      <td>...</td>\n",
       "      <td>...</td>\n",
       "      <td>...</td>\n",
       "      <td>...</td>\n",
       "      <td>...</td>\n",
       "      <td>...</td>\n",
       "      <td>...</td>\n",
       "      <td>...</td>\n",
       "      <td>...</td>\n",
       "      <td>...</td>\n",
       "      <td>...</td>\n",
       "      <td>...</td>\n",
       "    </tr>\n",
       "    <tr>\n",
       "      <th>2022-03-16</th>\n",
       "      <td>24</td>\n",
       "      <td>0</td>\n",
       "      <td>0</td>\n",
       "      <td>80.0</td>\n",
       "      <td>1</td>\n",
       "      <td>6</td>\n",
       "      <td>6</td>\n",
       "      <td>31</td>\n",
       "      <td>39</td>\n",
       "      <td>37</td>\n",
       "      <td>0</td>\n",
       "      <td>40.818441</td>\n",
       "    </tr>\n",
       "    <tr>\n",
       "      <th>2022-03-17</th>\n",
       "      <td>25</td>\n",
       "      <td>0</td>\n",
       "      <td>0</td>\n",
       "      <td>80.0</td>\n",
       "      <td>2</td>\n",
       "      <td>5</td>\n",
       "      <td>6</td>\n",
       "      <td>37</td>\n",
       "      <td>38</td>\n",
       "      <td>43</td>\n",
       "      <td>0</td>\n",
       "      <td>39.663013</td>\n",
       "    </tr>\n",
       "    <tr>\n",
       "      <th>2022-03-18</th>\n",
       "      <td>28</td>\n",
       "      <td>0</td>\n",
       "      <td>0</td>\n",
       "      <td>82.0</td>\n",
       "      <td>1</td>\n",
       "      <td>7</td>\n",
       "      <td>6</td>\n",
       "      <td>39</td>\n",
       "      <td>32</td>\n",
       "      <td>45</td>\n",
       "      <td>0</td>\n",
       "      <td>39.590720</td>\n",
       "    </tr>\n",
       "    <tr>\n",
       "      <th>2022-03-19</th>\n",
       "      <td>26</td>\n",
       "      <td>2</td>\n",
       "      <td>0</td>\n",
       "      <td>84.0</td>\n",
       "      <td>0</td>\n",
       "      <td>7</td>\n",
       "      <td>6</td>\n",
       "      <td>37</td>\n",
       "      <td>36</td>\n",
       "      <td>43</td>\n",
       "      <td>0</td>\n",
       "      <td>39.191337</td>\n",
       "    </tr>\n",
       "    <tr>\n",
       "      <th>2022-03-20</th>\n",
       "      <td>23</td>\n",
       "      <td>2</td>\n",
       "      <td>0</td>\n",
       "      <td>80.0</td>\n",
       "      <td>0</td>\n",
       "      <td>6</td>\n",
       "      <td>6</td>\n",
       "      <td>50</td>\n",
       "      <td>23</td>\n",
       "      <td>56</td>\n",
       "      <td>0</td>\n",
       "      <td>40.048507</td>\n",
       "    </tr>\n",
       "  </tbody>\n",
       "</table>\n",
       "<p>150 rows × 12 columns</p>\n",
       "</div>"
      ],
      "text/plain": [
       "            Admission_Total  Mortality  U60_Mortality  O2_saturation  ICU_ADD  \\\n",
       "Date                                                                            \n",
       "2021-10-22               73          4              1           83.0        0   \n",
       "2021-10-23               77          2              0           83.0        1   \n",
       "2021-10-24               76          3              1           83.0        0   \n",
       "2021-10-25               71          3              2           83.0        0   \n",
       "2021-10-26               66          1              0           81.0        1   \n",
       "...                     ...        ...            ...            ...      ...   \n",
       "2022-03-16               24          0              0           80.0        1   \n",
       "2022-03-17               25          0              0           80.0        2   \n",
       "2022-03-18               28          0              0           82.0        1   \n",
       "2022-03-19               26          2              0           84.0        0   \n",
       "2022-03-20               23          2              0           80.0        0   \n",
       "\n",
       "            Non_invasive_ventialion   Inutabet_C19_Pt  Non-intubated_C19_PT  \\\n",
       "Date                                                                          \n",
       "2021-10-22                        14                6                    28   \n",
       "2021-10-23                         9                8                    33   \n",
       "2021-10-24                        22                6                    35   \n",
       "2021-10-25                         9                5                    35   \n",
       "2021-10-26                        10                6                    31   \n",
       "...                              ...              ...                   ...   \n",
       "2022-03-16                         6                6                    31   \n",
       "2022-03-17                         5                6                    37   \n",
       "2022-03-18                         7                6                    39   \n",
       "2022-03-19                         7                6                    37   \n",
       "2022-03-20                         6                6                    50   \n",
       "\n",
       "            Free_Ventilators  Using_Ventialtors  Infected_paramedics  \\\n",
       "Date                                                                   \n",
       "2021-10-22                23                 34                    2   \n",
       "2021-10-23                17                 41                    0   \n",
       "2021-10-24                15                 41                    2   \n",
       "2021-10-25                12                 36                    2   \n",
       "2021-10-26                21                 37                    2   \n",
       "...                      ...                ...                  ...   \n",
       "2022-03-16                39                 37                    0   \n",
       "2022-03-17                38                 43                    0   \n",
       "2022-03-18                32                 45                    0   \n",
       "2022-03-19                36                 43                    0   \n",
       "2022-03-20                23                 56                    0   \n",
       "\n",
       "            Admission_Total_pred  \n",
       "Date                              \n",
       "2021-10-22             49.662308  \n",
       "2021-10-23             50.273810  \n",
       "2021-10-24             47.809197  \n",
       "2021-10-25             48.868567  \n",
       "2021-10-26             49.672796  \n",
       "...                          ...  \n",
       "2022-03-16             40.818441  \n",
       "2022-03-17             39.663013  \n",
       "2022-03-18             39.590720  \n",
       "2022-03-19             39.191337  \n",
       "2022-03-20             40.048507  \n",
       "\n",
       "[150 rows x 12 columns]"
      ]
     },
     "execution_count": 116,
     "metadata": {},
     "output_type": "execute_result"
    }
   ],
   "source": [
    "df_final['Admission_Total_pred']=rev_trans[:,0]\n",
    "df_final"
   ]
  },
  {
   "cell_type": "code",
   "execution_count": 117,
   "id": "4b3b7b6e",
   "metadata": {},
   "outputs": [
    {
     "data": {
      "text/plain": [
       "<AxesSubplot:xlabel='Date'>"
      ]
     },
     "execution_count": 117,
     "metadata": {},
     "output_type": "execute_result"
    },
    {
     "data": {
      "image/png": "[encoded data removed]",
      "text/plain": [
       "<Figure size 432x288 with 1 Axes>"
      ]
     },
     "metadata": {
      "needs_background": "light"
     },
     "output_type": "display_data"
    }
   ],
   "source": [
    "df_final[['Admission_Total','Admission_Total_pred']].plot()\n"
   ]
  },
  {
   "cell_type": "code",
   "execution_count": 121,
   "id": "52b80500",
   "metadata": {},
   "outputs": [
    {
     "data": {
      "text/plain": [
       "(150,)"
      ]
     },
     "execution_count": 121,
     "metadata": {},
     "output_type": "execute_result"
    }
   ],
   "source": [
    "yhat.shape"
   ]
  },
  {
   "cell_type": "code",
   "execution_count": 119,
   "id": "adc12adc",
   "metadata": {},
   "outputs": [
    {
     "data": {
      "text/plain": [
       "array([0.25766871, 0.2392638 , 0.21779141, 0.23619632, 0.25153374,\n",
       "       0.20245399, 0.21472393, 0.21165644, 0.19631902, 0.1809816 ,\n",
       "       0.17791411, 0.16871166, 0.17791411, 0.17177914, 0.17484663,\n",
       "       0.16871166, 0.15337423, 0.1595092 , 0.12269939, 0.10736196,\n",
       "       0.09509202, 0.09815951, 0.11656442, 0.11349693, 0.10429448,\n",
       "       0.10429448, 0.10122699, 0.10122699, 0.09815951, 0.10122699,\n",
       "       0.09509202, 0.08895706, 0.08895706, 0.08588957, 0.07361963,\n",
       "       0.06748466, 0.07361963, 0.09815951, 0.09815951, 0.09509202,\n",
       "       0.07361963, 0.07055215, 0.07668712, 0.05828221, 0.05214724,\n",
       "       0.05521472, 0.06441718, 0.06748466, 0.06441718, 0.07055215,\n",
       "       0.06134969, 0.05828221, 0.05828221, 0.07361963, 0.06748466,\n",
       "       0.06134969, 0.06441718, 0.07055215, 0.06748466, 0.05521472,\n",
       "       0.05521472, 0.05214724, 0.04907975, 0.04294479, 0.03374233,\n",
       "       0.03374233, 0.03067485, 0.03067485, 0.02453988, 0.02453988,\n",
       "       0.03374233, 0.03374233, 0.03067485, 0.03067485, 0.02453988,\n",
       "       0.02760736, 0.02453988, 0.03067485, 0.02453988, 0.02760736,\n",
       "       0.03067485, 0.02453988, 0.02147239, 0.01840491, 0.02147239,\n",
       "       0.01533742, 0.01533742, 0.02147239, 0.01226994, 0.00920245,\n",
       "       0.01840491, 0.01533742, 0.00613497, 0.        , 0.00306748,\n",
       "       0.02147239, 0.03067485, 0.03067485, 0.03680982, 0.05214724,\n",
       "       0.05521472, 0.05828221, 0.05214724, 0.05214724, 0.05828221,\n",
       "       0.05214724, 0.05214724, 0.08895706, 0.07361963, 0.08588957,\n",
       "       0.10429448, 0.10122699, 0.10429448, 0.11042945, 0.15030675,\n",
       "       0.19325153, 0.19631902, 0.2208589 , 0.21779141, 0.24233129,\n",
       "       0.2208589 , 0.23312883, 0.25153374, 0.2607362 , 0.24846626,\n",
       "       0.1993865 , 0.18711656, 0.1993865 , 0.21165644, 0.24233129,\n",
       "       0.19018405, 0.13496933, 0.11349693, 0.11656442, 0.14417178,\n",
       "       0.15644172, 0.16257669, 0.13803681, 0.13190184, 0.10429448,\n",
       "       0.10429448, 0.08895706, 0.07668712, 0.07361963, 0.07668712,\n",
       "       0.07668712, 0.06134969, 0.05521472, 0.0398773 , 0.05214724,\n",
       "       0.05214724, 0.05521472, 0.06441718, 0.05828221, 0.04907975])"
      ]
     },
     "execution_count": 119,
     "metadata": {},
     "output_type": "execute_result"
    }
   ],
   "source": [
    "ytest"
   ]
  },
  {
   "cell_type": "code",
   "execution_count": 120,
   "id": "db4218de",
   "metadata": {},
   "outputs": [
    {
     "name": "stdout",
     "output_type": "stream",
     "text": [
      "Unable to compute metric mae: operands could not be broadcast together with shapes (155,) (150,) \n",
      "Unable to compute metric rmse: operands could not be broadcast together with shapes (155,) (150,) \n",
      "Unable to compute metric mape: operands could not be broadcast together with shapes (155,) (150,) \n",
      "Unable to compute metric r2: Found input variables with inconsistent numbers of samples: [155, 150]\n"
     ]
    },
    {
     "ename": "ValueError",
     "evalue": "operands could not be broadcast together with shapes (150,) (155,) ",
     "output_type": "error",
     "traceback": [
      "\u001b[1;31m---------------------------------------------------------------------------\u001b[0m",
      "\u001b[1;31mValueError\u001b[0m                                Traceback (most recent call last)",
      "Input \u001b[1;32mIn [120]\u001b[0m, in \u001b[0;36m<cell line: 3>\u001b[1;34m()\u001b[0m\n\u001b[0;32m      1\u001b[0m resultsDict[\u001b[38;5;124m'\u001b[39m\u001b[38;5;124mLSTM\u001b[39m\u001b[38;5;124m'\u001b[39m] \u001b[38;5;241m=\u001b[39m evaluate(ytest, yhat)\n\u001b[0;32m      2\u001b[0m predictionsDict[\u001b[38;5;124m'\u001b[39m\u001b[38;5;124mLSTM\u001b[39m\u001b[38;5;124m'\u001b[39m] \u001b[38;5;241m=\u001b[39m yhat\n\u001b[1;32m----> 3\u001b[0m \u001b[38;5;28mprint\u001b[39m(\u001b[38;5;124m\"\u001b[39m\u001b[38;5;124mMean squared error: \u001b[39m\u001b[38;5;132;01m%.2f\u001b[39;00m\u001b[38;5;124m\"\u001b[39m \u001b[38;5;241m%\u001b[39m np\u001b[38;5;241m.\u001b[39mmean((\u001b[43myhat\u001b[49m\u001b[43m \u001b[49m\u001b[38;5;241;43m-\u001b[39;49m\u001b[43m \u001b[49m\u001b[43my_test\u001b[49m) \u001b[38;5;241m*\u001b[39m\u001b[38;5;241m*\u001b[39m \u001b[38;5;241m2\u001b[39m))\n",
      "File \u001b[1;32mC:\\ProgramData\\Anaconda3\\lib\\site-packages\\pandas\\core\\generic.py:2101\u001b[0m, in \u001b[0;36mNDFrame.__array_ufunc__\u001b[1;34m(self, ufunc, method, *inputs, **kwargs)\u001b[0m\n\u001b[0;32m   2097\u001b[0m \u001b[38;5;129m@final\u001b[39m\n\u001b[0;32m   2098\u001b[0m \u001b[38;5;28;01mdef\u001b[39;00m \u001b[38;5;21m__array_ufunc__\u001b[39m(\n\u001b[0;32m   2099\u001b[0m     \u001b[38;5;28mself\u001b[39m, ufunc: np\u001b[38;5;241m.\u001b[39mufunc, method: \u001b[38;5;28mstr\u001b[39m, \u001b[38;5;241m*\u001b[39minputs: Any, \u001b[38;5;241m*\u001b[39m\u001b[38;5;241m*\u001b[39mkwargs: Any\n\u001b[0;32m   2100\u001b[0m ):\n\u001b[1;32m-> 2101\u001b[0m     \u001b[38;5;28;01mreturn\u001b[39;00m arraylike\u001b[38;5;241m.\u001b[39marray_ufunc(\u001b[38;5;28mself\u001b[39m, ufunc, method, \u001b[38;5;241m*\u001b[39minputs, \u001b[38;5;241m*\u001b[39m\u001b[38;5;241m*\u001b[39mkwargs)\n",
      "File \u001b[1;32mC:\\ProgramData\\Anaconda3\\lib\\site-packages\\pandas\\core\\arraylike.py:263\u001b[0m, in \u001b[0;36marray_ufunc\u001b[1;34m(self, ufunc, method, *inputs, **kwargs)\u001b[0m\n\u001b[0;32m    260\u001b[0m     \u001b[38;5;28;01mreturn\u001b[39;00m result\n\u001b[0;32m    262\u001b[0m \u001b[38;5;66;03m# for binary ops, use our custom dunder methods\u001b[39;00m\n\u001b[1;32m--> 263\u001b[0m result \u001b[38;5;241m=\u001b[39m maybe_dispatch_ufunc_to_dunder_op(\u001b[38;5;28mself\u001b[39m, ufunc, method, \u001b[38;5;241m*\u001b[39minputs, \u001b[38;5;241m*\u001b[39m\u001b[38;5;241m*\u001b[39mkwargs)\n\u001b[0;32m    264\u001b[0m \u001b[38;5;28;01mif\u001b[39;00m result \u001b[38;5;129;01mis\u001b[39;00m \u001b[38;5;129;01mnot\u001b[39;00m \u001b[38;5;28mNotImplemented\u001b[39m:\n\u001b[0;32m    265\u001b[0m     \u001b[38;5;28;01mreturn\u001b[39;00m result\n",
      "File \u001b[1;32mC:\\ProgramData\\Anaconda3\\lib\\site-packages\\pandas\\_libs\\ops_dispatch.pyx:113\u001b[0m, in \u001b[0;36mpandas._libs.ops_dispatch.maybe_dispatch_ufunc_to_dunder_op\u001b[1;34m()\u001b[0m\n",
      "File \u001b[1;32mC:\\ProgramData\\Anaconda3\\lib\\site-packages\\pandas\\core\\ops\\common.py:70\u001b[0m, in \u001b[0;36m_unpack_zerodim_and_defer.<locals>.new_method\u001b[1;34m(self, other)\u001b[0m\n\u001b[0;32m     66\u001b[0m             \u001b[38;5;28;01mreturn\u001b[39;00m \u001b[38;5;28mNotImplemented\u001b[39m\n\u001b[0;32m     68\u001b[0m other \u001b[38;5;241m=\u001b[39m item_from_zerodim(other)\n\u001b[1;32m---> 70\u001b[0m \u001b[38;5;28;01mreturn\u001b[39;00m \u001b[43mmethod\u001b[49m\u001b[43m(\u001b[49m\u001b[38;5;28;43mself\u001b[39;49m\u001b[43m,\u001b[49m\u001b[43m \u001b[49m\u001b[43mother\u001b[49m\u001b[43m)\u001b[49m\n",
      "File \u001b[1;32mC:\\ProgramData\\Anaconda3\\lib\\site-packages\\pandas\\core\\arraylike.py:112\u001b[0m, in \u001b[0;36mOpsMixin.__rsub__\u001b[1;34m(self, other)\u001b[0m\n\u001b[0;32m    110\u001b[0m \u001b[38;5;129m@unpack_zerodim_and_defer\u001b[39m(\u001b[38;5;124m\"\u001b[39m\u001b[38;5;124m__rsub__\u001b[39m\u001b[38;5;124m\"\u001b[39m)\n\u001b[0;32m    111\u001b[0m \u001b[38;5;28;01mdef\u001b[39;00m \u001b[38;5;21m__rsub__\u001b[39m(\u001b[38;5;28mself\u001b[39m, other):\n\u001b[1;32m--> 112\u001b[0m     \u001b[38;5;28;01mreturn\u001b[39;00m \u001b[38;5;28;43mself\u001b[39;49m\u001b[38;5;241;43m.\u001b[39;49m\u001b[43m_arith_method\u001b[49m\u001b[43m(\u001b[49m\u001b[43mother\u001b[49m\u001b[43m,\u001b[49m\u001b[43m \u001b[49m\u001b[43mroperator\u001b[49m\u001b[38;5;241;43m.\u001b[39;49m\u001b[43mrsub\u001b[49m\u001b[43m)\u001b[49m\n",
      "File \u001b[1;32mC:\\ProgramData\\Anaconda3\\lib\\site-packages\\pandas\\core\\series.py:5639\u001b[0m, in \u001b[0;36mSeries._arith_method\u001b[1;34m(self, other, op)\u001b[0m\n\u001b[0;32m   5637\u001b[0m \u001b[38;5;28;01mdef\u001b[39;00m \u001b[38;5;21m_arith_method\u001b[39m(\u001b[38;5;28mself\u001b[39m, other, op):\n\u001b[0;32m   5638\u001b[0m     \u001b[38;5;28mself\u001b[39m, other \u001b[38;5;241m=\u001b[39m ops\u001b[38;5;241m.\u001b[39malign_method_SERIES(\u001b[38;5;28mself\u001b[39m, other)\n\u001b[1;32m-> 5639\u001b[0m     \u001b[38;5;28;01mreturn\u001b[39;00m \u001b[43mbase\u001b[49m\u001b[38;5;241;43m.\u001b[39;49m\u001b[43mIndexOpsMixin\u001b[49m\u001b[38;5;241;43m.\u001b[39;49m\u001b[43m_arith_method\u001b[49m\u001b[43m(\u001b[49m\u001b[38;5;28;43mself\u001b[39;49m\u001b[43m,\u001b[49m\u001b[43m \u001b[49m\u001b[43mother\u001b[49m\u001b[43m,\u001b[49m\u001b[43m \u001b[49m\u001b[43mop\u001b[49m\u001b[43m)\u001b[49m\n",
      "File \u001b[1;32mC:\\ProgramData\\Anaconda3\\lib\\site-packages\\pandas\\core\\base.py:1295\u001b[0m, in \u001b[0;36mIndexOpsMixin._arith_method\u001b[1;34m(self, other, op)\u001b[0m\n\u001b[0;32m   1292\u001b[0m rvalues \u001b[38;5;241m=\u001b[39m ensure_wrapped_if_datetimelike(rvalues)\n\u001b[0;32m   1294\u001b[0m \u001b[38;5;28;01mwith\u001b[39;00m np\u001b[38;5;241m.\u001b[39merrstate(\u001b[38;5;28mall\u001b[39m\u001b[38;5;241m=\u001b[39m\u001b[38;5;124m\"\u001b[39m\u001b[38;5;124mignore\u001b[39m\u001b[38;5;124m\"\u001b[39m):\n\u001b[1;32m-> 1295\u001b[0m     result \u001b[38;5;241m=\u001b[39m \u001b[43mops\u001b[49m\u001b[38;5;241;43m.\u001b[39;49m\u001b[43marithmetic_op\u001b[49m\u001b[43m(\u001b[49m\u001b[43mlvalues\u001b[49m\u001b[43m,\u001b[49m\u001b[43m \u001b[49m\u001b[43mrvalues\u001b[49m\u001b[43m,\u001b[49m\u001b[43m \u001b[49m\u001b[43mop\u001b[49m\u001b[43m)\u001b[49m\n\u001b[0;32m   1297\u001b[0m \u001b[38;5;28;01mreturn\u001b[39;00m \u001b[38;5;28mself\u001b[39m\u001b[38;5;241m.\u001b[39m_construct_result(result, name\u001b[38;5;241m=\u001b[39mres_name)\n",
      "File \u001b[1;32mC:\\ProgramData\\Anaconda3\\lib\\site-packages\\pandas\\core\\ops\\array_ops.py:222\u001b[0m, in \u001b[0;36marithmetic_op\u001b[1;34m(left, right, op)\u001b[0m\n\u001b[0;32m    217\u001b[0m \u001b[38;5;28;01melse\u001b[39;00m:\n\u001b[0;32m    218\u001b[0m     \u001b[38;5;66;03m# TODO we should handle EAs consistently and move this check before the if/else\u001b[39;00m\n\u001b[0;32m    219\u001b[0m     \u001b[38;5;66;03m# (https://github.com/pandas-dev/pandas/issues/41165)\u001b[39;00m\n\u001b[0;32m    220\u001b[0m     _bool_arith_check(op, left, right)\n\u001b[1;32m--> 222\u001b[0m     res_values \u001b[38;5;241m=\u001b[39m \u001b[43m_na_arithmetic_op\u001b[49m\u001b[43m(\u001b[49m\u001b[43mleft\u001b[49m\u001b[43m,\u001b[49m\u001b[43m \u001b[49m\u001b[43mright\u001b[49m\u001b[43m,\u001b[49m\u001b[43m \u001b[49m\u001b[43mop\u001b[49m\u001b[43m)\u001b[49m\n\u001b[0;32m    224\u001b[0m \u001b[38;5;28;01mreturn\u001b[39;00m res_values\n",
      "File \u001b[1;32mC:\\ProgramData\\Anaconda3\\lib\\site-packages\\pandas\\core\\ops\\array_ops.py:163\u001b[0m, in \u001b[0;36m_na_arithmetic_op\u001b[1;34m(left, right, op, is_cmp)\u001b[0m\n\u001b[0;32m    160\u001b[0m     func \u001b[38;5;241m=\u001b[39m partial(expressions\u001b[38;5;241m.\u001b[39mevaluate, op)\n\u001b[0;32m    162\u001b[0m \u001b[38;5;28;01mtry\u001b[39;00m:\n\u001b[1;32m--> 163\u001b[0m     result \u001b[38;5;241m=\u001b[39m \u001b[43mfunc\u001b[49m\u001b[43m(\u001b[49m\u001b[43mleft\u001b[49m\u001b[43m,\u001b[49m\u001b[43m \u001b[49m\u001b[43mright\u001b[49m\u001b[43m)\u001b[49m\n\u001b[0;32m    164\u001b[0m \u001b[38;5;28;01mexcept\u001b[39;00m \u001b[38;5;167;01mTypeError\u001b[39;00m:\n\u001b[0;32m    165\u001b[0m     \u001b[38;5;28;01mif\u001b[39;00m \u001b[38;5;129;01mnot\u001b[39;00m is_cmp \u001b[38;5;129;01mand\u001b[39;00m (is_object_dtype(left\u001b[38;5;241m.\u001b[39mdtype) \u001b[38;5;129;01mor\u001b[39;00m is_object_dtype(right)):\n\u001b[0;32m    166\u001b[0m         \u001b[38;5;66;03m# For object dtype, fallback to a masked operation (only operating\u001b[39;00m\n\u001b[0;32m    167\u001b[0m         \u001b[38;5;66;03m#  on the non-missing values)\u001b[39;00m\n\u001b[0;32m    168\u001b[0m         \u001b[38;5;66;03m# Don't do this for comparisons, as that will handle complex numbers\u001b[39;00m\n\u001b[0;32m    169\u001b[0m         \u001b[38;5;66;03m#  incorrectly, see GH#32047\u001b[39;00m\n",
      "File \u001b[1;32mC:\\ProgramData\\Anaconda3\\lib\\site-packages\\pandas\\core\\computation\\expressions.py:239\u001b[0m, in \u001b[0;36mevaluate\u001b[1;34m(op, a, b, use_numexpr)\u001b[0m\n\u001b[0;32m    236\u001b[0m \u001b[38;5;28;01mif\u001b[39;00m op_str \u001b[38;5;129;01mis\u001b[39;00m \u001b[38;5;129;01mnot\u001b[39;00m \u001b[38;5;28;01mNone\u001b[39;00m:\n\u001b[0;32m    237\u001b[0m     \u001b[38;5;28;01mif\u001b[39;00m use_numexpr:\n\u001b[0;32m    238\u001b[0m         \u001b[38;5;66;03m# error: \"None\" not callable\u001b[39;00m\n\u001b[1;32m--> 239\u001b[0m         \u001b[38;5;28;01mreturn\u001b[39;00m \u001b[43m_evaluate\u001b[49m\u001b[43m(\u001b[49m\u001b[43mop\u001b[49m\u001b[43m,\u001b[49m\u001b[43m \u001b[49m\u001b[43mop_str\u001b[49m\u001b[43m,\u001b[49m\u001b[43m \u001b[49m\u001b[43ma\u001b[49m\u001b[43m,\u001b[49m\u001b[43m \u001b[49m\u001b[43mb\u001b[49m\u001b[43m)\u001b[49m  \u001b[38;5;66;03m# type: ignore[misc]\u001b[39;00m\n\u001b[0;32m    240\u001b[0m \u001b[38;5;28;01mreturn\u001b[39;00m _evaluate_standard(op, op_str, a, b)\n",
      "File \u001b[1;32mC:\\ProgramData\\Anaconda3\\lib\\site-packages\\pandas\\core\\computation\\expressions.py:69\u001b[0m, in \u001b[0;36m_evaluate_standard\u001b[1;34m(op, op_str, a, b)\u001b[0m\n\u001b[0;32m     67\u001b[0m \u001b[38;5;28;01mif\u001b[39;00m _TEST_MODE:\n\u001b[0;32m     68\u001b[0m     _store_test_result(\u001b[38;5;28;01mFalse\u001b[39;00m)\n\u001b[1;32m---> 69\u001b[0m \u001b[38;5;28;01mreturn\u001b[39;00m \u001b[43mop\u001b[49m\u001b[43m(\u001b[49m\u001b[43ma\u001b[49m\u001b[43m,\u001b[49m\u001b[43m \u001b[49m\u001b[43mb\u001b[49m\u001b[43m)\u001b[49m\n",
      "File \u001b[1;32mC:\\ProgramData\\Anaconda3\\lib\\site-packages\\pandas\\core\\roperator.py:13\u001b[0m, in \u001b[0;36mrsub\u001b[1;34m(left, right)\u001b[0m\n\u001b[0;32m     12\u001b[0m \u001b[38;5;28;01mdef\u001b[39;00m \u001b[38;5;21mrsub\u001b[39m(left, right):\n\u001b[1;32m---> 13\u001b[0m     \u001b[38;5;28;01mreturn\u001b[39;00m \u001b[43mright\u001b[49m\u001b[43m \u001b[49m\u001b[38;5;241;43m-\u001b[39;49m\u001b[43m \u001b[49m\u001b[43mleft\u001b[49m\n",
      "\u001b[1;31mValueError\u001b[0m: operands could not be broadcast together with shapes (150,) (155,) "
     ]
    }
   ],
   "source": [
    "resultsDict['LSTM'] = evaluate(ytest, yhat)\n",
    "predictionsDict['LSTM'] = yhat\n",
    "print(\"Mean squared error: %.2f\" % np.mean((yhat - y_test) ** 2))"
   ]
  },
  {
   "cell_type": "code",
   "execution_count": 32,
   "id": "e88ea0ea",
   "metadata": {},
   "outputs": [
    {
     "data": {
      "image/png": "[encoded data removed]",
      "text/plain": [
       "<Figure size 1440x1080 with 4 Axes>"
      ]
     },
     "metadata": {
      "needs_background": "light"
     },
     "output_type": "display_data"
    }
   ],
   "source": [
    "bar_metrics(resultsDict)"
   ]
  },
  {
   "cell_type": "code",
   "execution_count": 34,
   "id": "53358567",
   "metadata": {},
   "outputs": [
    {
     "data": {
      "text/plain": [
       "{'BayesianRidge': {'mae': 17.926866059196374,\n",
       "  'rmse': 24.802088237445417,\n",
       "  'mape': 0.3138155708017384,\n",
       "  'r2': 0.9164853033069176},\n",
       " 'Lasso': {'mae': 18.113613345509062,\n",
       "  'rmse': 24.99247635051399,\n",
       "  'mape': 0.3217032054830757,\n",
       "  'r2': 0.9151982154869239},\n",
       " 'RandomForest': {'mae': 12.803032258064514,\n",
       "  'rmse': 19.66336280431691,\n",
       "  'mape': 0.18956485723117847,\n",
       "  'r2': 0.9475069271372495},\n",
       " 'XGBoost': {'mae': 14.180501913255261,\n",
       "  'rmse': 20.957242379184095,\n",
       "  'mape': 0.20521224793047,\n",
       "  'r2': 0.940371390205117},\n",
       " 'SVM RBF': {'mae': 17.48884373744746,\n",
       "  'rmse': 24.14622623523518,\n",
       "  'mape': 0.28532102977322876,\n",
       "  'r2': 0.9208437990259191},\n",
       " 'KNN': {'mae': 13.594946507358799,\n",
       "  'rmse': 19.866533925405825,\n",
       "  'mape': 0.19536434170546133,\n",
       "  'r2': 0.9464165566990972},\n",
       " 'LinearRegression': {'mae': 17.874471410235813,\n",
       "  'rmse': 24.786928450919735,\n",
       "  'mape': 0.3122374689352859,\n",
       "  'r2': 0.9165873655230427},\n",
       " 'MLP': {'mae': 15.240207736677407,\n",
       "  'rmse': 21.700169917954995,\n",
       "  'mape': 0.23375941440048234,\n",
       "  'r2': 0.9360688258466349},\n",
       " 'DecisionTreeClassifier': {'mae': 22.89032258064516,\n",
       "  'rmse': 34.51376536977674,\n",
       "  'mape': 0.3682095681362117,\n",
       "  'r2': 0.8382772578897771},\n",
       " 'LDA': {'mae': 17.696774193548386,\n",
       "  'rmse': 25.90316956568032,\n",
       "  'mape': 0.21790333082992827,\n",
       "  'r2': 0.9089054848339149}}"
      ]
     },
     "execution_count": 34,
     "metadata": {},
     "output_type": "execute_result"
    }
   ],
   "source": [
    "resultsDict"
   ]
  },
  {
   "cell_type": "code",
   "execution_count": null,
   "id": "b38edd28",
   "metadata": {},
   "outputs": [],
   "source": [
    "lightGBM = lgb.LGBMRegressor()\n",
    "lightGBM.fit(X_train, y_train)\n",
    "yhat = lightGBM.predict(X_test)\n",
    "resultsDict['Lightgbm'] = evaluate(y_test, yhat)\n",
    "predictionsDict['Lightgbm'] = yhat\n",
    "print(\"Mean squared error: %.2f\" % np.mean((yhat - y_test) ** 2))"
   ]
  },
  {
   "cell_type": "code",
   "execution_count": null,
   "id": "d7238f01",
   "metadata": {},
   "outputs": [],
   "source": [
    "y_pred_test = logreg.predict(X_test)\n",
    "\n",
    "y_pred_test"
   ]
  },
  {
   "cell_type": "code",
   "execution_count": null,
   "id": "084b4dd6",
   "metadata": {},
   "outputs": [],
   "source": [
    "logreg.predict_proba(X_test)[:,0]"
   ]
  },
  {
   "cell_type": "code",
   "execution_count": null,
   "id": "6123dd77",
   "metadata": {},
   "outputs": [],
   "source": [
    "\n",
    "\n",
    "# probability of getting output as 1 - rain\n",
    "\n",
    "logreg.predict_proba(X_test)[:,1]\n",
    "\n"
   ]
  },
  {
   "cell_type": "code",
   "execution_count": null,
   "id": "4ba067b2",
   "metadata": {},
   "outputs": [],
   "source": [
    "from sklearn.metrics import accuracy_score\n",
    "\n",
    "print('Model accuracy score: {0:0.4f}'. format(accuracy_score(y_test, y_pred_test)))"
   ]
  },
  {
   "cell_type": "code",
   "execution_count": null,
   "id": "7e4ae81b",
   "metadata": {},
   "outputs": [],
   "source": [
    "y_pred_train = logreg.predict(X_train)\n",
    "\n",
    "y_pred_train"
   ]
  },
  {
   "cell_type": "code",
   "execution_count": null,
   "id": "5c2f2284",
   "metadata": {},
   "outputs": [],
   "source": [
    "print('Training-set accuracy score: {0:0.4f}'. format(accuracy_score(y_train, y_pred_train)))"
   ]
  },
  {
   "cell_type": "code",
   "execution_count": null,
   "id": "06602273",
   "metadata": {},
   "outputs": [],
   "source": [
    "# fit the Logsitic Regression model with C=100\n",
    "\n",
    "# instantiate the model\n",
    "logreg100 = LogisticRegression(C=100, solver='liblinear', random_state=0)\n",
    "\n",
    "\n",
    "# fit the model\n",
    "logreg100.fit(X_train, y_train)"
   ]
  },
  {
   "cell_type": "code",
   "execution_count": null,
   "id": "493f10b1",
   "metadata": {},
   "outputs": [],
   "source": [
    "# print the scores on training and test set\n",
    "\n",
    "print('Training set score: {:.4f}'.format(logreg100.score(X_train, y_train)))\n",
    "\n",
    "print('Test set score: {:.4f}'.format(logreg100.score(X_test, y_test)))"
   ]
  },
  {
   "cell_type": "code",
   "execution_count": null,
   "id": "348010ef",
   "metadata": {},
   "outputs": [],
   "source": [
    "# fit the Logsitic Regression model with C=001\n",
    "\n",
    "# instantiate the model\n",
    "logreg001 = LogisticRegression(C=0.01, solver='liblinear', random_state=0)\n",
    "\n",
    "\n",
    "# fit the model\n",
    "logreg001.fit(X_train, y_train)"
   ]
  },
  {
   "cell_type": "code",
   "execution_count": null,
   "id": "3690989e",
   "metadata": {},
   "outputs": [],
   "source": [
    "# print the scores on training and test set\n",
    "\n",
    "print('Training set score: {:.4f}'.format(logreg001.score(X_train, y_train)))\n",
    "\n",
    "print('Test set score: {:.4f}'.format(logreg001.score(X_test, y_test)))"
   ]
  },
  {
   "cell_type": "code",
   "execution_count": null,
   "id": "eadc0209",
   "metadata": {},
   "outputs": [],
   "source": [
    "cutoff = 0.7                                               # decide on a cutoff limit\n",
    "y_pred_classes = np.zeros_like(y_LinearRegression_pred)    # initialise a matrix full with zeros\n",
    "y_pred_classes[y_LinearRegression_pred > cutoff] = 1       # add a 1 if the cutoff was breached\n",
    "y_LinearRegression_pred"
   ]
  },
  {
   "cell_type": "code",
   "execution_count": null,
   "id": "d9382adc",
   "metadata": {},
   "outputs": [],
   "source": [
    "y_test_classes = np.zeros_like(y_LinearRegression_pred)\n",
    "y_test_classes[y_test > cutoff] = 1"
   ]
  },
  {
   "cell_type": "code",
   "execution_count": null,
   "id": "14e37671",
   "metadata": {},
   "outputs": [],
   "source": [
    "metrics.accuracy_score(y_test_classes, y_pred_classes)"
   ]
  },
  {
   "cell_type": "code",
   "execution_count": null,
   "id": "9e471d75",
   "metadata": {},
   "outputs": [],
   "source": [
    "print('Mean absolute error: %.2f'% metrics.mean_absolute_error(y_test, y_LinearRegression_pred))"
   ]
  },
  {
   "cell_type": "markdown",
   "id": "392bd93c",
   "metadata": {},
   "source": [
    "KNN"
   ]
  },
  {
   "cell_type": "code",
   "execution_count": null,
   "id": "908345ed",
   "metadata": {},
   "outputs": [],
   "source": [
    "cutoff = 0.7                                  # decide on a cutoff limit\n",
    "y_pred_classes = np.zeros_like(y_knn_pred)    # initialise a matrix full with zeros\n",
    "y_pred_classes[y_knn_pred > cutoff] = 1       # add a 1 if the cutoff was breached"
   ]
  },
  {
   "cell_type": "code",
   "execution_count": null,
   "id": "5e8a45e4",
   "metadata": {},
   "outputs": [],
   "source": [
    "y_test_classes = np.zeros_like(y_knn_pred)\n",
    "y_test_classes[y_test > cutoff] = 1"
   ]
  },
  {
   "cell_type": "code",
   "execution_count": null,
   "id": "77b51786",
   "metadata": {},
   "outputs": [],
   "source": [
    "metrics.accuracy_score(y_test_classes, y_pred_classes)"
   ]
  },
  {
   "cell_type": "code",
   "execution_count": null,
   "id": "bc80ff58",
   "metadata": {},
   "outputs": [],
   "source": [
    "print('Mean absolute error: %.2f'% metrics.mean_absolute_error(y_test, y_knn_pred))"
   ]
  },
  {
   "cell_type": "markdown",
   "id": "8aeb6ac3",
   "metadata": {},
   "source": [
    "RandomForest"
   ]
  },
  {
   "cell_type": "code",
   "execution_count": null,
   "id": "38a76bc9",
   "metadata": {},
   "outputs": [],
   "source": [
    "cutoff = 0.7                                  # decide on a cutoff limit\n",
    "y_pred_classes = np.zeros_like(y_forest_pred)    # initialise a matrix full with zeros\n",
    "y_pred_classes[y_forest_pred > cutoff] = 1       # add a 1 if the cutoff was breached"
   ]
  },
  {
   "cell_type": "code",
   "execution_count": null,
   "id": "de8ddad2",
   "metadata": {},
   "outputs": [],
   "source": [
    "y_test_classes = np.zeros_like(y_forest_pred)\n",
    "y_test_classes[y_test > cutoff] = 1"
   ]
  },
  {
   "cell_type": "code",
   "execution_count": null,
   "id": "1eeb0399",
   "metadata": {},
   "outputs": [],
   "source": [
    "metrics.accuracy_score(y_test_classes, y_pred_classes)"
   ]
  },
  {
   "cell_type": "code",
   "execution_count": null,
   "id": "15b0c29e",
   "metadata": {},
   "outputs": [],
   "source": [
    "print('Mean absolute error: %.2f'% metrics.mean_absolute_error(y_test, y_forest_pred))"
   ]
  },
  {
   "cell_type": "markdown",
   "id": "a308f441",
   "metadata": {},
   "source": [
    "MLP"
   ]
  },
  {
   "cell_type": "code",
   "execution_count": null,
   "id": "8bdf6dc5",
   "metadata": {},
   "outputs": [],
   "source": [
    "mlp = MLPRegressor(hidden_layer_sizes=(75, 25), learning_rate='adaptive', verbose=True,\n",
    "                   activation='relu', solver='lbfgs', max_iter=500,random_state=140)\n",
    "mlp.fit(t_X_train, y_train)\n",
    "y_mlp_pred = mlp.predict(t_X_test)\n",
    "print(\"Mean squared error: %.2f\" % np.mean(y_mlp_pred - y_test) ** 2)\n",
    "print('R^2: %.2f' % metrics.r2_score(y_test, y_mlp_pred))\n",
    "score['mlp'] = mlp.score(t_X_test, y_test)\n",
    "print('Variance score: %.3f' % score['mlp'])"
   ]
  },
  {
   "cell_type": "code",
   "execution_count": null,
   "id": "5baede40",
   "metadata": {},
   "outputs": [],
   "source": [
    "cutoff = 0.7                                  # decide on a cutoff limit\n",
    "y_pred_classes = np.zeros_like(y_mlp_pred)    # initialise a matrix full with zeros\n",
    "y_pred_classes[y_mlp_pred > cutoff] = 1 "
   ]
  },
  {
   "cell_type": "code",
   "execution_count": null,
   "id": "d79f79ec",
   "metadata": {},
   "outputs": [],
   "source": [
    "y_test_classes = np.zeros_like(y_mlp_pred)\n",
    "y_test_classes[y_test > cutoff] = 1"
   ]
  },
  {
   "cell_type": "code",
   "execution_count": null,
   "id": "186a3cb1",
   "metadata": {},
   "outputs": [],
   "source": [
    "metrics.accuracy_score(y_test_classes, y_pred_classes)"
   ]
  },
  {
   "cell_type": "code",
   "execution_count": null,
   "id": "29e81b76",
   "metadata": {},
   "outputs": [],
   "source": [
    "print('Mean absolute error: %.2f'%metrics.mean_absolute_error(y_test, y_mlp_pred))"
   ]
  },
  {
   "cell_type": "code",
   "execution_count": null,
   "id": "e26f9bb7",
   "metadata": {},
   "outputs": [],
   "source": [
    "Lasso = linear_model.Lasso(alpha=0.1)\n",
    "Lasso.fit(t_X_train, y_train)\n",
    "y_Lasso_pred = Lasso.predict(t_X_test)\n",
    "print(\"Mean squared error: %.2f\" % np.mean(y_Lasso_pred - y_test) ** 2)\n",
    "print('R^2: %.2f' % metrics.r2_score(y_test, y_Lasso_pred))\n",
    "score['Lasso'] = Lasso.score(t_X_test, y_test)\n",
    "print('Variance score: %.3f' % score['Lasso'])"
   ]
  },
  {
   "cell_type": "code",
   "execution_count": null,
   "id": "797e4e17",
   "metadata": {},
   "outputs": [],
   "source": [
    "cutoff = 0.7                                  # decide on a cutoff limit\n",
    "y_pred_classes = np.zeros_like(y_Lasso_pred)    # initialise a matrix full with zeros\n",
    "y_pred_classes[y_Lasso_pred > cutoff] = 1       # add a 1 if the cutoff was breached"
   ]
  },
  {
   "cell_type": "code",
   "execution_count": null,
   "id": "eded86b8",
   "metadata": {},
   "outputs": [],
   "source": [
    "y_test_classes = np.zeros_like(y_Lasso_pred)\n",
    "y_test_classes[y_test > cutoff] = 1"
   ]
  },
  {
   "cell_type": "code",
   "execution_count": null,
   "id": "400c873a",
   "metadata": {},
   "outputs": [],
   "source": [
    "metrics.accuracy_score(y_test_classes, y_pred_classes)"
   ]
  },
  {
   "cell_type": "code",
   "execution_count": null,
   "id": "108648d6",
   "metadata": {},
   "outputs": [],
   "source": [
    "x=df.drop('Mortality',axis=1)\n",
    "y=df['Mortality']\n",
    "x_train, x_test, y_train, y_test = train_test_split(x, y, test_size = 0.30, random_state = 101)\n",
    "y_test"
   ]
  },
  {
   "cell_type": "code",
   "execution_count": null,
   "id": "ee7dfeb2",
   "metadata": {},
   "outputs": [],
   "source": []
  },
  {
   "cell_type": "code",
   "execution_count": null,
   "id": "adeedffb",
   "metadata": {},
   "outputs": [],
   "source": [
    "\n",
    "scaler = StandardScaler()\n",
    "scaler.fit(X_train)  # No cheating, never scale on the training+test!\n",
    "X_train = scaler.transform(X_train)\n",
    "X_test = scaler.transform(X_test)\n",
    "\n",
    "X_train_df = pd.DataFrame(X_train, columns=X_train_df.columns)\n",
    "X_test_df = pd.DataFrame(X_test, columns=X_test_df.columns)"
   ]
  },
  {
   "cell_type": "code",
   "execution_count": null,
   "id": "249ee268",
   "metadata": {},
   "outputs": [],
   "source": [
    "X_train_df"
   ]
  },
  {
   "cell_type": "code",
   "execution_count": null,
   "id": "94536b3c",
   "metadata": {},
   "outputs": [],
   "source": [
    "from utils.metrics import evaluate\n",
    "\n",
    "reg = linear_model.BayesianRidge()\n",
    "reg.fit(X_train, y_train)\n",
    "yhat = reg.predict(X_test)\n",
    "resultsDict['BayesianRidge'] = evaluate(df_test.Mortality, yhat)\n",
    "predictionsDict['BayesianRidge'] = yhat"
   ]
  },
  {
   "cell_type": "code",
   "execution_count": null,
   "id": "5c0fe294",
   "metadata": {},
   "outputs": [],
   "source": []
  },
  {
   "cell_type": "code",
   "execution_count": null,
   "id": "3b4ab634",
   "metadata": {},
   "outputs": [],
   "source": []
  }
 ],
 "metadata": {
  "kernelspec": {
   "display_name": "Python 3 (ipykernel)",
   "language": "python",
   "name": "python3"
  },
  "language_info": {
   "codemirror_mode": {
    "name": "ipython",
    "version": 3
   },
   "file_extension": ".py",
   "mimetype": "text/x-python",
   "name": "python",
   "nbconvert_exporter": "python",
   "pygments_lexer": "ipython3",
   "version": "3.9.12"
  }
 },
 "nbformat": 4,
 "nbformat_minor": 5
}
